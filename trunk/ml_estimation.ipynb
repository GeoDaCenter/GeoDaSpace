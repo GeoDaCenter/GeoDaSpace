{
 "metadata": {
  "name": "ml_estimation"
 },
 "nbformat": 3,
 "nbformat_minor": 0,
 "worksheets": [
  {
   "cells": [
    {
     "cell_type": "code",
     "collapsed": false,
     "input": [
      "run ml_sr"
     ],
     "language": "python",
     "metadata": {},
     "outputs": [
      {
       "output_type": "stream",
       "stream": "stdout",
       "text": [
        "       Iter.\t                  LL\t                 RHO\t                  UL\t                 DFR\n",
        "1\t  0.32925793\t  0.43901058\t  0.54876322\t -9.73598460\n",
        "2\t  0.32925793\t  0.38413426\t  0.43901058\t -1.86315505\n",
        "3\t  0.38413426\t  0.41157242\t  0.43901058\t -1.86315505\n",
        "4\t  0.38413426\t  0.39785334\t  0.41157242\t -0.04670240\n",
        "5\t  0.39785334\t  0.40471288\t  0.41157242\t -0.04670240\n",
        "6\t  0.40471288\t  0.40814265\t  0.41157242\t -0.04670240\n",
        "7\t  0.40814265\t  0.40985753\t  0.41157242\t -0.04670240\n",
        "8\t  0.40985753\t  0.41071497\t  0.41157242\t -0.04670240\n",
        "9\t  0.41071497\t  0.41114370\t  0.41157242\t -0.04670240\n",
        "10\t  0.41071497\t  0.41092933\t  0.41114370\t -0.01879400\n",
        "11\t  0.41071497\t  0.41082215\t  0.41092933\t -0.00484528\n",
        "12\t  0.41082215\t  0.41087574\t  0.41092933\t -0.00484528\n",
        "13\t  0.41082215\t  0.41084895\t  0.41087574\t -0.00135866\n",
        "14\t  0.41084895\t  0.41086235\t  0.41087574\t -0.00135866\n",
        "15\t  0.41084895\t  0.41085565\t  0.41086235\t -0.00048705\n",
        "16\t  0.41084895\t  0.41085230\t  0.41085565\t -0.00005124\n",
        "17\t  0.41085230\t  0.41085397\t  0.41085565\t -0.00005124\n",
        "18\t  0.41085397\t  0.41085481\t  0.41085565\t -0.00005124\n",
        "19\t  0.41085481\t  0.41085523\t  0.41085565\t -0.00005124\n",
        "20\t  0.41085481\t  0.41085502\t  0.41085523\t -0.00002401\n",
        "21\t  0.41085481\t  0.41085492\t  0.41085502\t -0.00001039\n",
        "22\t  0.41085481\t  0.41085486\t  0.41085492\t -0.00000358\n",
        "23\t  0.41085481\t  0.41085484\t  0.41085486\t -0.00000017\n",
        "       Iter.\t                  LL\t                 RHO\t                  UL\t                 DFR\n",
        "1\t  0.32925793\t  0.43901058\t  0.54876322\t -9.73598460\n",
        "2\t  0.32925793\t  0.38413426\t  0.43901058\t -1.86315505\n",
        "3\t  0.38413426\t  0.41157242\t  0.43901058\t -1.86315505"
       ]
      },
      {
       "output_type": "stream",
       "stream": "stdout",
       "text": [
        "\n",
        "4\t  0.38413426\t  0.39785334\t  0.41157242\t -0.04670240\n",
        "5\t  0.39785334\t  0.40471288\t  0.41157242\t -0.04670240\n",
        "6\t  0.40471288\t  0.40814265\t  0.41157242\t -0.04670240\n",
        "7\t  0.40814265\t  0.40985753\t  0.41157242\t -0.04670240\n",
        "8\t  0.40985753\t  0.41071497\t  0.41157242\t -0.04670240\n",
        "9\t  0.41071497\t  0.41114370\t  0.41157242\t -0.04670240\n",
        "10\t  0.41071497\t  0.41092933\t  0.41114370\t -0.01879400\n",
        "11\t  0.41071497\t  0.41082215\t  0.41092933\t -0.00484528\n",
        "12\t  0.41082215\t  0.41087574\t  0.41092933\t -0.00484528\n",
        "13\t  0.41082215\t  0.41084895\t  0.41087574\t -0.00135866\n",
        "14\t  0.41084895\t  0.41086235\t  0.41087574\t -0.00135866\n",
        "15\t  0.41084895\t  0.41085565\t  0.41086235\t -0.00048705\n",
        "16\t  0.41084895\t  0.41085230\t  0.41085565\t -0.00005124\n",
        "17\t  0.41085230\t  0.41085397\t  0.41085565\t -0.00005124\n",
        "18\t  0.41085397\t  0.41085481\t  0.41085565\t -0.00005124\n",
        "19\t  0.41085481\t  0.41085523\t  0.41085565\t -0.00005124\n"
       ]
      }
     ],
     "prompt_number": 57
    },
    {
     "cell_type": "code",
     "collapsed": false,
     "input": [
      "wy = pysal.lag_spatial(w,y)"
     ],
     "language": "python",
     "metadata": {},
     "outputs": [],
     "prompt_number": 54
    },
    {
     "cell_type": "code",
     "collapsed": false,
     "input": [
      "Z = np.hstack((X,wy))"
     ],
     "language": "python",
     "metadata": {},
     "outputs": [],
     "prompt_number": 9
    },
    {
     "cell_type": "code",
     "collapsed": false,
     "input": [
      "def ols(y,X):\n",
      "    xx = np.dot(X.T, X)\n",
      "    ixx = np.linalg.inv(xx)\n",
      "    b = np.dot(ixx, np.dot(X.T,y))\n",
      "    return b"
     ],
     "language": "python",
     "metadata": {},
     "outputs": [],
     "prompt_number": 12
    },
    {
     "cell_type": "code",
     "collapsed": false,
     "input": [
      "ols(y,X)"
     ],
     "language": "python",
     "metadata": {},
     "outputs": [
      {
       "output_type": "pyout",
       "prompt_number": 13,
       "text": [
        "array([[ 68.6189611 ],\n",
        "       [ -1.59731083],\n",
        "       [ -0.27393148]])"
       ]
      }
     ],
     "prompt_number": 13
    },
    {
     "cell_type": "code",
     "collapsed": false,
     "input": [
      "ols(y,Z)"
     ],
     "language": "python",
     "metadata": {},
     "outputs": [
      {
       "output_type": "pyout",
       "prompt_number": 15,
       "text": [
        "array([[ 37.71305301],\n",
        "       [ -0.8549484 ],\n",
        "       [ -0.25472455],\n",
        "       [  0.55953029]])"
       ]
      }
     ],
     "prompt_number": 15
    },
    {
     "cell_type": "code",
     "collapsed": false,
     "input": [
      "w.diagWtW_WW"
     ],
     "language": "python",
     "metadata": {},
     "outputs": [
      {
       "output_type": "pyout",
       "prompt_number": 16,
       "text": [
        "array([ 0.46527778,  0.70833333,  0.75056689,  0.46556689,  0.83444444,\n",
        "        0.20294785,  0.41222222,  0.53175737,  0.82588435,  0.35493827,\n",
        "        0.2922449 ,  0.48036848,  0.41222222,  0.72171769,  0.27168934,\n",
        "        0.53496032,  0.49382716,  0.38945578,  0.3125    ,  0.93      ,\n",
        "        0.375     ,  0.3696586 ,  0.41743827,  0.65921769,  0.4475907 ,\n",
        "        0.30556689,  0.31124591,  0.62821429,  0.36112245,  0.47888889,\n",
        "        0.3275    ,  0.55401235,  0.31124591,  1.03444444,  0.42104749,\n",
        "        1.5125    ,  0.53      ,  0.32612245,  0.64      ,  0.7345679 ,\n",
        "        0.70833333,  0.3275    ,  0.53      ,  0.49944444,  0.49944444,\n",
        "        0.64      ,  0.46527778,  0.53444444,  0.4375    ])"
       ]
      }
     ],
     "prompt_number": 16
    },
    {
     "cell_type": "code",
     "collapsed": false,
     "input": [
      "W = w.full()[0]"
     ],
     "language": "python",
     "metadata": {},
     "outputs": [],
     "prompt_number": 17
    },
    {
     "cell_type": "code",
     "collapsed": false,
     "input": [
      "B = W**2 + np.dot(W.T,W)"
     ],
     "language": "python",
     "metadata": {},
     "outputs": [],
     "prompt_number": 19
    },
    {
     "cell_type": "code",
     "collapsed": false,
     "input": [
      "np.trace(B)"
     ],
     "language": "python",
     "metadata": {},
     "outputs": [
      {
       "output_type": "pyout",
       "prompt_number": 20,
       "text": [
        "13.723015873015873"
       ]
      }
     ],
     "prompt_number": 20
    },
    {
     "cell_type": "code",
     "collapsed": false,
     "input": [
      "w.weights[0]"
     ],
     "language": "python",
     "metadata": {},
     "outputs": [
      {
       "output_type": "pyout",
       "prompt_number": 21,
       "text": [
        "[0.5, 0.5]"
       ]
      }
     ],
     "prompt_number": 21
    },
    {
     "cell_type": "code",
     "collapsed": false,
     "input": [
      "w.neighbors[0]\n"
     ],
     "language": "python",
     "metadata": {},
     "outputs": [
      {
       "output_type": "pyout",
       "prompt_number": 22,
       "text": [
        "[1, 2]"
       ]
      }
     ],
     "prompt_number": 22
    },
    {
     "cell_type": "code",
     "collapsed": false,
     "input": [
      "y[0]"
     ],
     "language": "python",
     "metadata": {},
     "outputs": [
      {
       "output_type": "pyout",
       "prompt_number": 23,
       "text": [
        "array([ 15.72598])"
       ]
      }
     ],
     "prompt_number": 23
    },
    {
     "cell_type": "code",
     "collapsed": false,
     "input": [
      "psols_lag = ps.spreg.OLS(y,Z[:,1:])"
     ],
     "language": "python",
     "metadata": {},
     "outputs": [],
     "prompt_number": 26
    },
    {
     "cell_type": "code",
     "collapsed": false,
     "input": [
      "print psols_lag.summary"
     ],
     "language": "python",
     "metadata": {},
     "outputs": [
      {
       "output_type": "stream",
       "stream": "stdout",
       "text": [
        "REGRESSION\n",
        "----------\n",
        "SUMMARY OF OUTPUT: ORDINARY LEAST SQUARES ESTIMATION\n",
        "----------------------------------------------------\n",
        "Data set            :      unknown\n",
        "Dependent Variable  :     dep_var  Number of Observations:          49\n",
        "Mean dependent var  :     35.1288  Number of Variables   :           4\n",
        "S.D. dependent var  :     16.7321  Degrees of Freedom    :          45\n",
        "\n",
        "R-squared           :    0.657220\n",
        "Adjusted R-squared  :      0.6344\n",
        "Sum squared residual:    4606.350  F-statistic           :     28.7599\n",
        "Sigma-square        :     102.363  Prob(F-statistic)     :1.538581e-10\n",
        "S.E. of regression  :      10.117  Log likelihood        :    -180.841\n",
        "Sigma-square ML     :      94.007  Akaike info criterion :     369.681\n",
        "S.E of regression ML:      9.6957  Schwarz criterion     :     377.248\n",
        "\n",
        "----------------------------------------------------------------------------\n",
        "    Variable     Coefficient       Std.Error     t-Statistic     Probability\n",
        "----------------------------------------------------------------------------\n",
        "    CONSTANT      37.7130530       9.3258120       4.0439431    0.0002034018\n",
        "       var_1      -0.8549484       0.3570007      -2.3948085      0.02085388\n",
        "       var_2      -0.2547246       0.0914552      -2.7852380     0.007799355\n",
        "       var_3       0.5595303       0.1508380       3.7094778    0.0005684874\n",
        "----------------------------------------------------------------------------\n",
        "\n",
        "REGRESSION DIAGNOSTICS\n",
        "MULTICOLLINEARITY CONDITION NUMBER   15.075866\n",
        "TEST ON NORMALITY OF ERRORS\n",
        "TEST                  DF          VALUE            PROB\n",
        "Jarque-Bera            2          26.243521        0.0000020\n",
        "\n",
        "DIAGNOSTICS FOR HETEROSKEDASTICITY\n",
        "RANDOM COEFFICIENTS\n",
        "TEST                  DF          VALUE            PROB\n",
        "Breusch-Pagan test     3          30.922573        0.0000009\n",
        "Koenker-Bassett test   3          11.684264        0.0085468\n",
        "\n",
        "SPECIFICATION ROBUST TEST\n",
        "TEST                  DF          VALUE            PROB\n",
        "White                  9          32.276636        0.0001783\n",
        "========================= END OF REPORT ==============================\n"
       ]
      }
     ],
     "prompt_number": 27
    },
    {
     "cell_type": "code",
     "collapsed": false,
     "input": [
      "cols = ps.spreg.OLS(y,X[:,1:])"
     ],
     "language": "python",
     "metadata": {},
     "outputs": [],
     "prompt_number": 29
    },
    {
     "cell_type": "code",
     "collapsed": false,
     "input": [
      "print cols.summary"
     ],
     "language": "python",
     "metadata": {},
     "outputs": [
      {
       "output_type": "stream",
       "stream": "stdout",
       "text": [
        "REGRESSION\n",
        "----------\n",
        "SUMMARY OF OUTPUT: ORDINARY LEAST SQUARES ESTIMATION\n",
        "----------------------------------------------------\n",
        "Data set            :      unknown\n",
        "Dependent Variable  :     dep_var  Number of Observations:          49\n",
        "Mean dependent var  :     35.1288  Number of Variables   :           3\n",
        "S.D. dependent var  :     16.7321  Degrees of Freedom    :          46\n",
        "\n",
        "R-squared           :    0.552404\n",
        "Adjusted R-squared  :      0.5329\n",
        "Sum squared residual:    6014.893  F-statistic           :     28.3856\n",
        "Sigma-square        :     130.759  Prob(F-statistic)     :9.340747e-09\n",
        "S.E. of regression  :      11.435  Log likelihood        :    -187.377\n",
        "Sigma-square ML     :     122.753  Akaike info criterion :     380.754\n",
        "S.E of regression ML:     11.0794  Schwarz criterion     :     386.430\n",
        "\n",
        "----------------------------------------------------------------------------\n",
        "    Variable     Coefficient       Std.Error     t-Statistic     Probability\n",
        "----------------------------------------------------------------------------\n",
        "    CONSTANT      68.6189611       4.7354861      14.4903731     9.21089e-19\n",
        "       var_1      -1.5973108       0.3341308      -4.7804962     1.82896e-05\n",
        "       var_2      -0.2739315       0.1031987      -2.6544086       0.0108745\n",
        "----------------------------------------------------------------------------\n",
        "\n",
        "REGRESSION DIAGNOSTICS\n",
        "MULTICOLLINEARITY CONDITION NUMBER    6.541828\n",
        "TEST ON NORMALITY OF ERRORS\n",
        "TEST                  DF          VALUE            PROB\n",
        "Jarque-Bera            2           1.835753        0.3993663\n",
        "\n",
        "DIAGNOSTICS FOR HETEROSKEDASTICITY\n",
        "RANDOM COEFFICIENTS\n",
        "TEST                  DF          VALUE            PROB\n",
        "Breusch-Pagan test     2           7.900442        0.0192505\n",
        "Koenker-Bassett test   2           5.694088        0.0580156\n",
        "\n",
        "SPECIFICATION ROBUST TEST\n",
        "TEST                  DF          VALUE            PROB\n",
        "White                  5          19.946008        0.0012792\n",
        "========================= END OF REPORT ==============================\n"
       ]
      }
     ],
     "prompt_number": 31
    },
    {
     "cell_type": "code",
     "collapsed": false,
     "input": [
      "diagnostics = ps.spreg.diagnostics_sp.LMtests(cols,w)\n"
     ],
     "language": "python",
     "metadata": {},
     "outputs": [],
     "prompt_number": 41
    },
    {
     "cell_type": "code",
     "collapsed": false,
     "input": [
      "print diagnostics.summary"
     ],
     "language": "python",
     "metadata": {},
     "outputs": [
      {
       "ename": "AttributeError",
       "evalue": "LMtests instance has no attribute 'summary'",
       "output_type": "pyerr",
       "traceback": [
        "\u001b[0;31m---------------------------------------------------------------------------\u001b[0m\n\u001b[0;31mAttributeError\u001b[0m                            Traceback (most recent call last)",
        "\u001b[0;32m<ipython-input-42-75445b6f0a92>\u001b[0m in \u001b[0;36m<module>\u001b[0;34m()\u001b[0m\n\u001b[0;32m----> 1\u001b[0;31m \u001b[0;32mprint\u001b[0m \u001b[0mdiagnostics\u001b[0m\u001b[0;34m.\u001b[0m\u001b[0msummary\u001b[0m\u001b[0;34m\u001b[0m\u001b[0m\n\u001b[0m",
        "\u001b[0;31mAttributeError\u001b[0m: LMtests instance has no attribute 'summary'"
       ]
      }
     ],
     "prompt_number": 42
    },
    {
     "cell_type": "code",
     "collapsed": false,
     "input": [
      "diagnostics."
     ],
     "language": "python",
     "metadata": {},
     "outputs": [
      {
       "output_type": "pyout",
       "prompt_number": 36,
       "text": [
        "(5.8148799344854325, 0.015891138229204915)"
       ]
      }
     ],
     "prompt_number": 36
    },
    {
     "cell_type": "code",
     "collapsed": false,
     "input": [
      "diagnostics.lml"
     ],
     "language": "python",
     "metadata": {},
     "outputs": [
      {
       "output_type": "pyout",
       "prompt_number": 37,
       "text": [
        "(8.75990710727819, 0.0030792473253606358)"
       ]
      }
     ],
     "prompt_number": 37
    },
    {
     "cell_type": "code",
     "collapsed": false,
     "input": [],
     "language": "python",
     "metadata": {},
     "outputs": []
    }
   ],
   "metadata": {}
  }
 ]
}