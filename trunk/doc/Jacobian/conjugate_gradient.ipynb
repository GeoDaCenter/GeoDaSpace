{
 "metadata": {
  "name": "conjugate_gradient"
 },
 "nbformat": 3,
 "nbformat_minor": 0,
 "worksheets": [
  {
   "cells": [
    {
     "cell_type": "code",
     "collapsed": false,
     "input": [
      "import pysal as ps\n",
      "import scipy.sparse as SPARSE\n",
      "import numpy as np"
     ],
     "language": "python",
     "metadata": {},
     "outputs": [],
     "prompt_number": 60
    },
    {
     "cell_type": "code",
     "collapsed": false,
     "input": [
      "w = ps.lat2W(5,5)\n",
      "w.transformation = 'r'"
     ],
     "language": "python",
     "metadata": {},
     "outputs": [],
     "prompt_number": 61
    },
    {
     "cell_type": "code",
     "collapsed": false,
     "input": [
      "rho = 0.5"
     ],
     "language": "python",
     "metadata": {},
     "outputs": [],
     "prompt_number": 62
    },
    {
     "cell_type": "code",
     "collapsed": false,
     "input": [
      "A = SPARSE.eye(w.n,w.n) - rho * w.sparse"
     ],
     "language": "python",
     "metadata": {},
     "outputs": [],
     "prompt_number": 63
    },
    {
     "cell_type": "markdown",
     "metadata": {},
     "source": [
      "$y = \\rho W y + \\mu + \\epsilon$"
     ]
    },
    {
     "cell_type": "code",
     "collapsed": false,
     "input": [
      "AFULL = A.todense()"
     ],
     "language": "python",
     "metadata": {},
     "outputs": [],
     "prompt_number": 64
    },
    {
     "cell_type": "code",
     "collapsed": false,
     "input": [
      "AI = np.linalg.inv(AFULL)"
     ],
     "language": "python",
     "metadata": {},
     "outputs": [],
     "prompt_number": 65
    },
    {
     "cell_type": "code",
     "collapsed": false,
     "input": [
      "np.random.seed(12345)\n",
      "e = np.random.normal(0.,4,w.n)"
     ],
     "language": "python",
     "metadata": {},
     "outputs": [],
     "prompt_number": 66
    },
    {
     "cell_type": "code",
     "collapsed": false,
     "input": [
      "e"
     ],
     "language": "python",
     "metadata": {},
     "outputs": [
      {
       "output_type": "pyout",
       "prompt_number": 67,
       "text": [
        "array([ -0.81883064,   1.91577335,  -2.07775486,  -2.22292122,\n",
        "         7.86312229,   5.57362333,   0.37163151,   1.12698461,\n",
        "         3.07609027,   4.98573895,   4.02875743,  -5.18488444,\n",
        "         1.09996653,   0.91565152,   5.41166734,   3.54571736,\n",
        "        -8.00654924,  -1.48737015,   6.67610124,  -1.75427894,\n",
        "        -2.15896578,   1.90794004,  12.99577568,  -4.0849101 ,  -2.30834921])"
       ]
      }
     ],
     "prompt_number": 67
    },
    {
     "cell_type": "code",
     "collapsed": false,
     "input": [
      "mu = 50.\n",
      "y = np.dot(AI, mu+e)"
     ],
     "language": "python",
     "metadata": {},
     "outputs": [],
     "prompt_number": 68
    },
    {
     "cell_type": "code",
     "collapsed": false,
     "input": [
      "y"
     ],
     "language": "python",
     "metadata": {},
     "outputs": [
      {
       "output_type": "pyout",
       "prompt_number": 69,
       "text": [
        "matrix([[  4.39990377e+15,   4.39990377e+15,   3.96860448e+01,\n",
        "          -4.39990377e+15,  -4.39990377e+15,   4.39990377e+15,\n",
        "           4.39990377e+15,  -2.80431090e+02,  -4.39990377e+15,\n",
        "          -4.39990377e+15,   9.70916343e+01,  -2.09023964e+02,\n",
        "          -4.51851049e+02,  -2.37234240e+02,   1.09048259e+02,\n",
        "          -4.39990377e+15,  -4.39990377e+15,  -2.76853392e+02,\n",
        "           4.39990377e+15,   4.39990377e+15,  -4.39990377e+15,\n",
        "          -4.39990377e+15,   3.07237308e+01,   4.39990377e+15,\n",
        "           4.39990377e+15]])"
       ]
      }
     ],
     "prompt_number": 69
    },
    {
     "cell_type": "markdown",
     "metadata": {},
     "source": [
      "Solve for $y = A^{-1} b$ where $A=(I-\\rho W)$  and $b = \\mu + e$ using conjugate gradient on $Ay = b$"
     ]
    },
    {
     "cell_type": "code",
     "collapsed": false,
     "input": [
      "b = mu + e\n",
      "y1, flag = SPARSE.linalg.cg(A,b)"
     ],
     "language": "python",
     "metadata": {},
     "outputs": [],
     "prompt_number": 70
    },
    {
     "cell_type": "code",
     "collapsed": false,
     "input": [
      "flag"
     ],
     "language": "python",
     "metadata": {},
     "outputs": [
      {
       "output_type": "pyout",
       "prompt_number": 71,
       "text": [
        "0"
       ]
      }
     ],
     "prompt_number": 71
    },
    {
     "cell_type": "code",
     "collapsed": false,
     "input": [
      "y1"
     ],
     "language": "python",
     "metadata": {},
     "outputs": [
      {
       "output_type": "pyout",
       "prompt_number": 72,
       "text": [
        "array([ -8.25887703e+16,  -8.25887703e+16,   2.46487848e+01,\n",
        "         8.25887703e+16,   8.25887703e+16,  -8.25887703e+16,\n",
        "        -8.25887703e+16,  -2.34615146e+02,   8.25887703e+16,\n",
        "         8.25887703e+16,   3.41838097e+01,  -2.41037155e+02,\n",
        "        -4.24430429e+02,  -2.40668812e+02,   2.59657580e+01,\n",
        "         8.25887703e+16,   8.25887703e+16,  -2.34739675e+02,\n",
        "        -8.25887703e+16,  -8.25887703e+16,   8.25887703e+16,\n",
        "         8.25887703e+16,   4.82820869e+01,  -8.25887703e+16,\n",
        "        -8.25887703e+16])"
       ]
      }
     ],
     "prompt_number": 72
    },
    {
     "cell_type": "code",
     "collapsed": false,
     "input": [
      "\n",
      "import time\n",
      "sizes = [ 10, 20, 40, 80]\n",
      "np.random.seed(12345)\n",
      "for size in sizes:\n",
      "    w = ps.lat2W(size,size)\n",
      "    w.transform = 'r'\n",
      "    A = SPARSE.eye(w.n,w.n) - 0.5 * w.sparse\n",
      "    e = np.random.normal(0.,4,w.n)\n",
      "    b = mu + e\n",
      "    t1 = time.time()\n",
      "    y1,flag = SPARSE.linalg.cg(A,b)\n",
      "    t2 = time.time()\n",
      "    AF = A.todense()\n",
      "    t3 = time.time()\n",
      "    AI = np.linalg.inv(AF)\n",
      "    y = np.dot(AI,b)\n",
      "    t4 = time.time()\n",
      "    print w.n, flag, t2-t1, t4-t3"
     ],
     "language": "python",
     "metadata": {},
     "outputs": [
      {
       "output_type": "stream",
       "stream": "stdout",
       "text": [
        "100 0 0.000741004943848 0.0259609222412\n",
        "400 0 0.00049614906311 0.0146958827972\n",
        "1600"
       ]
      },
      {
       "output_type": "stream",
       "stream": "stdout",
       "text": [
        " 0 0.000659942626953 0.547626972198\n",
        "6400"
       ]
      },
      {
       "output_type": "stream",
       "stream": "stdout",
       "text": [
        " 0 0.00168395042419 23.6002178192\n"
       ]
      }
     ],
     "prompt_number": 78
    },
    {
     "cell_type": "raw",
     "metadata": {},
     "source": [
      "First col is n, second is flag: if 0 cg solved, third is cg time, fourth is inverse solution time.\n",
      "\n",
      "Take away is cg is much faster as problem size grows, and it scales (the inverse solution failed for the 160x160 lattice). The values for the $y$ are slightly different."
     ]
    },
    {
     "cell_type": "code",
     "collapsed": false,
     "input": [
      "pct_diff = (y.T[0] - y1)/y1"
     ],
     "language": "python",
     "metadata": {},
     "outputs": [],
     "prompt_number": 74
    },
    {
     "cell_type": "code",
     "collapsed": false,
     "input": [
      "pct_diff"
     ],
     "language": "python",
     "metadata": {},
     "outputs": [
      {
       "output_type": "pyout",
       "prompt_number": 75,
       "text": [
        "matrix([[  3.87915869e-07,  -3.16512238e-02,  -3.07979069e-02, ...,\n",
        "           2.42638344e-02,  -5.03680846e-02,  -4.56012956e-02]])"
       ]
      }
     ],
     "prompt_number": 75
    },
    {
     "cell_type": "code",
     "collapsed": false,
     "input": [
      "pct_diff.max()"
     ],
     "language": "python",
     "metadata": {},
     "outputs": [
      {
       "output_type": "pyout",
       "prompt_number": 76,
       "text": [
        "0.19066608108176142"
       ]
      }
     ],
     "prompt_number": 76
    },
    {
     "cell_type": "code",
     "collapsed": false,
     "input": [
      "pct_diff.min()"
     ],
     "language": "python",
     "metadata": {},
     "outputs": [
      {
       "output_type": "pyout",
       "prompt_number": 77,
       "text": [
        "-0.13267277984954376"
       ]
      }
     ],
     "prompt_number": 77
    },
    {
     "cell_type": "code",
     "collapsed": false,
     "input": [],
     "language": "python",
     "metadata": {},
     "outputs": []
    }
   ],
   "metadata": {}
  }
 ]
}