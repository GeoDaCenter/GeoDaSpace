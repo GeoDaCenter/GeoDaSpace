{
 "metadata": {
  "name": "ml_estimation"
 },
 "nbformat": 3,
 "nbformat_minor": 0,
 "worksheets": [
  {
   "cells": [
    {
     "cell_type": "markdown",
     "metadata": {},
     "source": [
      "## Open GeoDa ##"
     ]
    },
    {
     "cell_type": "raw",
     "metadata": {},
     "source": [
      "\n",
      "Spatial Weight      : columbus_og_rook.gal\n",
      "Dependent Variable  :       CRIME  Number of Observations:   49\n",
      "Mean dependent var  :     35.1288  Number of Variables   :    4\n",
      "S.D. dependent var  :     16.5605  Degrees of Freedom    :   45\n",
      "Lag coeff.   (Rho)  :    0.422808\n",
      "\n",
      "R-squared           :    0.650962  Log likelihood        :    -182.518\n",
      "Sq. Correlation     : -            Akaike info criterion :     373.035\n",
      "Sigma-square        :     95.7235  Schwarz criterion     :     380.603\n",
      "S.E of regression   :     9.78384\n",
      "\n",
      "-----------------------------------------------------------------------\n",
      "\n",
      "    Variable    Coefficient     Std.Error       z-value   Probability \n",
      "-----------------------------------------------------------------------\n",
      "     W_CRIME     0.4228079      0.1155777       3.658213    0.0002540\n",
      "    CONSTANT      45.26498       7.175796       6.308007    0.0000000\n",
      "         INC     -1.036346      0.3052524      -3.395047    0.0006863\n",
      "       HOVAL    -0.2594178     0.08879673      -2.921479    0.0034839\n",
      "-----------------------------------------------------------------------\n",
      "\n",
      "REGRESSION DIAGNOSTICS\n",
      "DIAGNOSTICS FOR HETEROSKEDASTICITY \n",
      "RANDOM COEFFICIENTS\n",
      "TEST                                     DF     VALUE         PROB\n",
      "Breusch-Pagan test                       2       23.57973     0.0000076\n",
      "\n",
      "DIAGNOSTICS FOR SPATIAL DEPENDENCE\n",
      "SPATIAL LAG DEPENDENCE FOR WEIGHT MATRIX : columbus_og_rook.gal\n",
      "TEST                                     DF      VALUE        PROB\n",
      "Likelihood Ratio Test                    1       9.719246     0.0018235\n",
      "\n",
      "COEFFICIENTS VARIANCE MATRIX\n",
      "   CONSTANT         INC       HOVAL     W_CRIME \n",
      "  51.492052   -1.323566   -0.173965   -0.684506 \n",
      "  -1.323566    0.093179   -0.011612    0.012367 \n",
      "  -0.173965   -0.011612    0.007885    0.001087 \n",
      "  -0.684506    0.012367    0.001087    0.013358 \n",
      "\n",
      "========================= END OF REPORT==============================\n"
     ]
    },
    {
     "cell_type": "code",
     "collapsed": false,
     "input": [
      "import pysal as ps\n",
      "from ml import ML_Lag"
     ],
     "language": "python",
     "metadata": {},
     "outputs": [],
     "prompt_number": 11
    },
    {
     "cell_type": "code",
     "collapsed": false,
     "input": [
      "db =  ps.open(ps.examples.get_path('columbus.dbf'),'r')\n",
      "y = np.array(db.by_col(\"CRIME\"))\n",
      "y.shape = (len(y),1)\n",
      "X = []\n",
      "X.append(db.by_col(\"INC\"))\n",
      "X.append(db.by_col(\"HOVAL\"))\n",
      "X = np.array(X).T\n",
      "#w = ps.open(ps.examples.get_path(\"columbus.gal\")).read()\n",
      "w = ps.rook_from_shapefile(ps.examples.get_path(\"columbus.shp\"))\n",
      "w.transform = 'r'\n",
      "X = np.hstack((np.ones((w.n,1)),X))\n",
      "bml = ML_Lag(y,w,X, verbose=True, like='FULL')\n"
     ],
     "language": "python",
     "metadata": {},
     "outputs": [
      {
       "output_type": "stream",
       "stream": "stdout",
       "text": [
        "\n",
        "Maximum Likelihood Estimation of Spatial Lag Model\n",
        "Iter.\t          LL\t         RHO\t          UL\t         DFR\n",
        "0\t  0.11190606\t  0.33571817\t  0.55953029\t -9.82436995\n",
        "1\t  0.33571817\t  0.44762423\t  0.55953029\t -9.82436995\n",
        "2\t  0.33571817\t  0.39167120\t  0.44762423\t -1.66773259\n",
        "3\t  0.39167120\t  0.41964772\t  0.44762423\t -1.66773259\n",
        "4\t  0.41964772\t  0.43363597\t  0.44762423\t -1.66773259\n",
        "5\t  0.41964772\t  0.42664184\t  0.43363597\t -0.72148755\n",
        "6\t  0.41964772\t  0.42314478\t  0.42664184\t -0.25436375\n",
        "7\t  0.41964772\t  0.42139625\t  0.42314478\t -0.02230275\n",
        "8\t  0.42139625\t  0.42227051\t  0.42314478\t -0.02230275\n",
        "9\t  0.42227051\t  0.42270765\t  0.42314478\t -0.02230275\n",
        "10\t  0.42270765\t  0.42292621\t  0.42314478\t -0.02230275\n",
        "11\t  0.42270765\t  0.42281693\t  0.42292621\t -0.00783217\n",
        "12\t  0.42270765\t  0.42276229\t  0.42281693\t -0.00059836\n",
        "13\t  0.42276229\t  0.42278961\t  0.42281693\t -0.00059836\n",
        "14\t  0.42278961\t  0.42280327\t  0.42281693\t -0.00059836\n",
        "15\t  0.42280327\t  0.42281010\t  0.42281693\t -0.00059836\n",
        "16\t  0.42280327\t  0.42280668\t  0.42281010\t -0.00014628\n",
        "17\t  0.42280668\t  0.42280839\t  0.42281010\t -0.00014628\n",
        "18\t  0.42280668\t  0.42280754\t  0.42280839\t -0.00003326\n",
        "19\t  0.42280754\t  0.42280797\t  0.42280839\t -0.00003326\n",
        "20\t  0.42280754\t  0.42280775\t  0.42280797\t -0.00000500\n",
        "21\t  0.42280775\t  0.42280786\t  0.42280797\t -0.00000500\n",
        "22\t  0.42280786\t  0.42280791\t  0.42280797\t -0.00000500\n"
       ]
      }
     ],
     "prompt_number": 12
    },
    {
     "cell_type": "code",
     "collapsed": false,
     "input": [
      "bml_ord = ML_Lag(y,w,X, verbose=True, like='ORD')"
     ],
     "language": "python",
     "metadata": {},
     "outputs": [
      {
       "output_type": "stream",
       "stream": "stdout",
       "text": [
        "\n",
        "Maximum Likelihood Estimation of Spatial Lag Model\n",
        "Iter.\t          LL\t         RHO\t          UL\t         DFR\n",
        "0\t  0.11190606\t  0.33571817\t  0.55953029\t -9.82436995\n",
        "1\t  0.33571817\t  0.44762423\t  0.55953029\t -9.82436995\n",
        "2\t  0.33571817\t  0.39167120\t  0.44762423\t -1.66773259\n",
        "3\t  0.39167120\t  0.41964772\t  0.44762423\t -1.66773259\n",
        "4\t  0.41964772\t  0.43363597\t  0.44762423\t -1.66773259\n",
        "5\t  0.41964772\t  0.42664184\t  0.43363597\t -0.72148755\n",
        "6\t  0.41964772\t  0.42314478\t  0.42664184\t -0.25436375\n",
        "7\t  0.41964772\t  0.42139625\t  0.42314478\t -0.02230275\n",
        "8\t  0.42139625\t  0.42227051\t  0.42314478\t -0.02230275\n",
        "9\t  0.42227051\t  0.42270765\t  0.42314478\t -0.02230275\n",
        "10\t  0.42270765\t  0.42292621\t  0.42314478\t -0.02230275\n",
        "11\t  0.42270765\t  0.42281693\t  0.42292621\t -0.00783217\n",
        "12\t  0.42270765\t  0.42276229\t  0.42281693\t -0.00059836\n",
        "13\t  0.42276229\t  0.42278961\t  0.42281693\t -0.00059836\n",
        "14\t  0.42278961\t  0.42280327\t  0.42281693\t -0.00059836\n",
        "15\t  0.42280327\t  0.42281010\t  0.42281693\t -0.00059836\n",
        "16\t  0.42280327\t  0.42280668\t  0.42281010\t -0.00014628\n",
        "17\t  0.42280668\t  0.42280839\t  0.42281010\t -0.00014628\n",
        "18\t  0.42280668\t  0.42280754\t  0.42280839\t -0.00003326\n",
        "19\t  0.42280754\t  0.42280797\t  0.42280839\t -0.00003326\n",
        "20\t  0.42280754\t  0.42280775\t  0.42280797\t -0.00000500\n",
        "21\t  0.42280775\t  0.42280786\t  0.42280797\t -0.00000500\n",
        "22\t  0.42280786\t  0.42280791\t  0.42280797\t -0.00000500\n"
       ]
      }
     ],
     "prompt_number": 13
    },
    {
     "cell_type": "code",
     "collapsed": false,
     "input": [
      "bml_ord['llik']"
     ],
     "language": "python",
     "metadata": {},
     "outputs": [
      {
       "output_type": "pyout",
       "prompt_number": 14,
       "text": [
        "-181.61213998334384"
       ]
      }
     ],
     "prompt_number": 14
    },
    {
     "cell_type": "code",
     "collapsed": false,
     "input": [
      "bml['llik']"
     ],
     "language": "python",
     "metadata": {},
     "outputs": [
      {
       "output_type": "pyout",
       "prompt_number": 15,
       "text": [
        "-182.51761573191709"
       ]
      }
     ],
     "prompt_number": 15
    },
    {
     "cell_type": "markdown",
     "metadata": {},
     "source": [
      "Note that using the full evaluation of the Jacobian results in the value for the log likelihood matching that in OpenGeoDa. However, when the Ord approach is used, the value of the log likelihood is slightly lower (in absolute value)."
     ]
    },
    {
     "cell_type": "code",
     "collapsed": false,
     "input": [],
     "language": "python",
     "metadata": {},
     "outputs": []
    },
    {
     "cell_type": "code",
     "collapsed": false,
     "input": [],
     "language": "python",
     "metadata": {},
     "outputs": []
    },
    {
     "cell_type": "code",
     "collapsed": false,
     "input": [],
     "language": "python",
     "metadata": {},
     "outputs": []
    },
    {
     "cell_type": "code",
     "collapsed": false,
     "input": [],
     "language": "python",
     "metadata": {},
     "outputs": []
    },
    {
     "cell_type": "code",
     "collapsed": false,
     "input": [],
     "language": "python",
     "metadata": {},
     "outputs": []
    },
    {
     "cell_type": "code",
     "collapsed": false,
     "input": [],
     "language": "python",
     "metadata": {},
     "outputs": []
    },
    {
     "cell_type": "code",
     "collapsed": false,
     "input": [
      "run ml.py"
     ],
     "language": "python",
     "metadata": {},
     "outputs": [
      {
       "output_type": "stream",
       "stream": "stdout",
       "text": [
        "\n",
        "Maximum Likelihood Estimation of Spatial Lag Model\n",
        "Iter.\t          LL\t         RHO\t          UL\t         DFR\n",
        "0\t  0.11190606\t  0.33571817\t  0.55953029\t -9.82436995\n",
        "1\t  0.33571817\t  0.44762423\t  0.55953029\t -9.82436995\n",
        "2\t  0.33571817\t  0.39167120\t  0.44762423\t -1.66773259\n",
        "3\t  0.39167120\t  0.41964772\t  0.44762423\t -1.66773259\n",
        "4\t  0.41964772\t  0.43363597\t  0.44762423\t -1.66773259\n",
        "5\t  0.41964772\t  0.42664184\t  0.43363597\t -0.72148755\n",
        "6\t  0.41964772\t  0.42314478\t  0.42664184\t -0.25436375\n",
        "7\t  0.41964772\t  0.42139625\t  0.42314478\t -0.02230275\n",
        "8\t  0.42139625\t  0.42227051\t  0.42314478\t -0.02230275\n",
        "9\t  0.42227051\t  0.42270765\t  0.42314478\t -0.02230275\n",
        "10\t  0.42270765\t  0.42292621\t  0.42314478\t -0.02230275\n",
        "11\t  0.42270765\t  0.42281693\t  0.42292621\t -0.00783217\n",
        "12\t  0.42270765\t  0.42276229\t  0.42281693\t -0.00059836\n",
        "13\t  0.42276229\t  0.42278961\t  0.42281693\t -0.00059836\n",
        "14\t  0.42278961\t  0.42280327\t  0.42281693\t -0.00059836\n",
        "15\t  0.42280327\t  0.42281010\t  0.42281693\t -0.00059836\n",
        "16\t  0.42280327\t  0.42280668\t  0.42281010\t -0.00014628\n",
        "17\t  0.42280668\t  0.42280839\t  0.42281010\t -0.00014628\n",
        "18\t  0.42280668\t  0.42280754\t  0.42280839\t -0.00003326\n",
        "19\t  0.42280754\t  0.42280797\t  0.42280839\t -0.00003326\n",
        "20\t  0.42280754\t  0.42280775\t  0.42280797\t -0.00000500\n",
        "21\t  0.42280775\t  0.42280786\t  0.42280797\t -0.00000500\n",
        "22\t  0.42280786\t  0.42280791\t  0.42280797\t -0.00000500\n",
        "\n",
        "Maximum Likelihood Estimation of Spatial Lag Model"
       ]
      },
      {
       "output_type": "stream",
       "stream": "stdout",
       "text": [
        "\n",
        "Iter.\t          LL\t         RHO\t          UL\t         DFR\n",
        "0\t  0.11190606\t  0.33571817\t  0.55953029\t -9.82436995\n",
        "1\t  0.33571817\t  0.44762423\t  0.55953029\t -9.82436995\n",
        "2\t  0.33571817\t  0.39167120\t  0.44762423\t -1.66773259\n",
        "3\t  0.39167120\t  0.41964772\t  0.44762423\t -1.66773259\n",
        "4\t  0.41964772\t  0.43363597\t  0.44762423\t -1.66773259\n",
        "5\t  0.41964772\t  0.42664184\t  0.43363597\t -0.72148755\n",
        "6\t  0.41964772\t  0.42314478\t  0.42664184\t -0.25436375\n",
        "7\t  0.41964772\t  0.42139625\t  0.42314478\t -0.02230275\n",
        "8\t  0.42139625\t  0.42227051\t  0.42314478\t -0.02230275\n",
        "9\t  0.42227051\t  0.42270765\t  0.42314478\t -0.02230275\n",
        "10\t  0.42270765\t  0.42292621\t  0.42314478\t -0.02230275\n",
        "11\t  0.42270765\t  0.42281693\t  0.42292621\t -0.00783217\n",
        "12\t  0.42270765\t  0.42276229\t  0.42281693\t -0.00059836\n",
        "13\t  0.42276229\t  0.42278961\t  0.42281693\t -0.00059836\n",
        "14\t  0.42278961\t  0.42280327\t  0.42281693\t -0.00059836\n",
        "15\t  0.42280327\t  0.42281010\t  0.42281693\t -0.00059836\n",
        "16\t  0.42280327\t  0.42280668\t  0.42281010\t -0.00014628\n",
        "17\t  0.42280668\t  0.42280839\t  0.42281010\t -0.00014628\n",
        "18\t  0.42280668\t  0.42280754\t  0.42280839\t -0.00003326\n",
        "19\t  0.42280754\t  0.42280797\t  0.42280839\t -0.00003326\n",
        "20\t  0.42280754\t  0.42280775\t  0.42280797\t -0.00000500\n",
        "21\t  0.42280775\t  0.42280786\t  0.42280797\t -0.00000500\n",
        "22\t  0.42280786\t  0.42280791\t  0.42280797\t -0.00000500\n",
        "\n",
        "Maximum Likelihood Estimation of Spatial Error Model\n",
        "Iter.\t          LL\t      LAMBDA\t          UL\t        dlik\n",
        "0\t  0.00000000\t  0.49995000\t  0.99990000\t 12.24326148\n",
        "1\t  0.49995000\t  0.74992500\t  0.99990000\t  1.98119262\n",
        "2\t  0.49995000\t  0.62493750\t  0.74992500\t-13.44919470\n",
        "3\t  0.49995000\t  0.56244375\t  0.62493750\t -3.91551629\n",
        "4\t  0.49995000\t  0.53119688\t  0.56244375\t -0.63644081\n",
        "5\t  0.53119688\t  0.54682031\t  0.56244375\t  0.74449669\n",
        "6\t  0.54682031\t  0.55463203\t  0.56244375\t  0.07325439\n",
        "7\t  0.54682031\t  0.55072617\t  0.55463203\t -0.27662781\n",
        "8\t  0.54682031\t  0.54877324\t  0.55072617\t -0.10046566\n",
        "9\t  0.54682031\t  0.54779678\t  0.54877324\t -0.01330287\n",
        "10\t  0.54779678\t  0.54828501\t  0.54877324\t  0.03005114\n",
        "11\t  0.54828501\t  0.54852913\t  0.54877324\t  0.00839302\n",
        "12\t  0.54828501\t  0.54840707\t  0.54852913\t -0.00245020\n",
        "13\t  0.54840707\t  0.54846810\t  0.54852913\t  0.00297259\n",
        "14\t  0.54846810\t  0.54849861\t  0.54852913\t  0.00026149\n",
        "15\t  0.54846810\t  0.54848335\t  0.54849861\t -0.00109428\n",
        "16\t  0.54846810\t  0.54847573\t  0.54848335\t -0.00041638\n",
        "17\t  0.54846810\t  0.54847191\t  0.54847573\t -0.00007744\n",
        "18\t  0.54847191\t  0.54847382\t  0.54847573\t  0.00009203\n",
        "19\t  0.54847382\t  0.54847477\t  0.54847573\t  0.00000729\n",
        "20\t  0.54847382\t  0.54847430\t  0.54847477\t -0.00003507\n",
        "21\t  0.54847382\t  0.54847406\t  0.54847430\t -0.00001389\n",
        "22\t  0.54847382\t  0.54847394\t  0.54847406\t -0.00000330\n"
       ]
      }
     ],
     "prompt_number": 7
    },
    {
     "cell_type": "code",
     "collapsed": false,
     "input": [
      "wy = pysal.lag_spatial(w,y)"
     ],
     "language": "python",
     "metadata": {},
     "outputs": [],
     "prompt_number": 54
    },
    {
     "cell_type": "code",
     "collapsed": false,
     "input": [
      "Z = np.hstack((X,wy))"
     ],
     "language": "python",
     "metadata": {},
     "outputs": [],
     "prompt_number": 9
    },
    {
     "cell_type": "code",
     "collapsed": false,
     "input": [
      "def ols(y,X):\n",
      "    xx = np.dot(X.T, X)\n",
      "    ixx = np.linalg.inv(xx)\n",
      "    b = np.dot(ixx, np.dot(X.T,y))\n",
      "    return b"
     ],
     "language": "python",
     "metadata": {},
     "outputs": [],
     "prompt_number": 12
    },
    {
     "cell_type": "code",
     "collapsed": false,
     "input": [
      "ols(y,X)"
     ],
     "language": "python",
     "metadata": {},
     "outputs": [
      {
       "output_type": "pyout",
       "prompt_number": 13,
       "text": [
        "array([[ 68.6189611 ],\n",
        "       [ -1.59731083],\n",
        "       [ -0.27393148]])"
       ]
      }
     ],
     "prompt_number": 13
    },
    {
     "cell_type": "code",
     "collapsed": false,
     "input": [
      "ols(y,Z)"
     ],
     "language": "python",
     "metadata": {},
     "outputs": [
      {
       "output_type": "pyout",
       "prompt_number": 15,
       "text": [
        "array([[ 37.71305301],\n",
        "       [ -0.8549484 ],\n",
        "       [ -0.25472455],\n",
        "       [  0.55953029]])"
       ]
      }
     ],
     "prompt_number": 15
    },
    {
     "cell_type": "code",
     "collapsed": false,
     "input": [
      "w.diagWtW_WW"
     ],
     "language": "python",
     "metadata": {},
     "outputs": [
      {
       "output_type": "pyout",
       "prompt_number": 16,
       "text": [
        "array([ 0.46527778,  0.70833333,  0.75056689,  0.46556689,  0.83444444,\n",
        "        0.20294785,  0.41222222,  0.53175737,  0.82588435,  0.35493827,\n",
        "        0.2922449 ,  0.48036848,  0.41222222,  0.72171769,  0.27168934,\n",
        "        0.53496032,  0.49382716,  0.38945578,  0.3125    ,  0.93      ,\n",
        "        0.375     ,  0.3696586 ,  0.41743827,  0.65921769,  0.4475907 ,\n",
        "        0.30556689,  0.31124591,  0.62821429,  0.36112245,  0.47888889,\n",
        "        0.3275    ,  0.55401235,  0.31124591,  1.03444444,  0.42104749,\n",
        "        1.5125    ,  0.53      ,  0.32612245,  0.64      ,  0.7345679 ,\n",
        "        0.70833333,  0.3275    ,  0.53      ,  0.49944444,  0.49944444,\n",
        "        0.64      ,  0.46527778,  0.53444444,  0.4375    ])"
       ]
      }
     ],
     "prompt_number": 16
    },
    {
     "cell_type": "code",
     "collapsed": false,
     "input": [
      "W = w.full()[0]"
     ],
     "language": "python",
     "metadata": {},
     "outputs": [],
     "prompt_number": 17
    },
    {
     "cell_type": "code",
     "collapsed": false,
     "input": [
      "B = W**2 + np.dot(W.T,W)"
     ],
     "language": "python",
     "metadata": {},
     "outputs": [],
     "prompt_number": 19
    },
    {
     "cell_type": "code",
     "collapsed": false,
     "input": [
      "np.trace(B)"
     ],
     "language": "python",
     "metadata": {},
     "outputs": [
      {
       "output_type": "pyout",
       "prompt_number": 20,
       "text": [
        "13.723015873015873"
       ]
      }
     ],
     "prompt_number": 20
    },
    {
     "cell_type": "code",
     "collapsed": false,
     "input": [
      "w.weights[0]"
     ],
     "language": "python",
     "metadata": {},
     "outputs": [
      {
       "output_type": "pyout",
       "prompt_number": 21,
       "text": [
        "[0.5, 0.5]"
       ]
      }
     ],
     "prompt_number": 21
    },
    {
     "cell_type": "code",
     "collapsed": false,
     "input": [
      "w.neighbors[0]\n"
     ],
     "language": "python",
     "metadata": {},
     "outputs": [
      {
       "output_type": "pyout",
       "prompt_number": 22,
       "text": [
        "[1, 2]"
       ]
      }
     ],
     "prompt_number": 22
    },
    {
     "cell_type": "code",
     "collapsed": false,
     "input": [
      "y[0]"
     ],
     "language": "python",
     "metadata": {},
     "outputs": [
      {
       "output_type": "pyout",
       "prompt_number": 23,
       "text": [
        "array([ 15.72598])"
       ]
      }
     ],
     "prompt_number": 23
    },
    {
     "cell_type": "code",
     "collapsed": false,
     "input": [
      "psols_lag = ps.spreg.OLS(y,Z[:,1:])"
     ],
     "language": "python",
     "metadata": {},
     "outputs": [],
     "prompt_number": 26
    },
    {
     "cell_type": "code",
     "collapsed": false,
     "input": [
      "print psols_lag.summary"
     ],
     "language": "python",
     "metadata": {},
     "outputs": [
      {
       "output_type": "stream",
       "stream": "stdout",
       "text": [
        "REGRESSION\n",
        "----------\n",
        "SUMMARY OF OUTPUT: ORDINARY LEAST SQUARES ESTIMATION\n",
        "----------------------------------------------------\n",
        "Data set            :      unknown\n",
        "Dependent Variable  :     dep_var  Number of Observations:          49\n",
        "Mean dependent var  :     35.1288  Number of Variables   :           4\n",
        "S.D. dependent var  :     16.7321  Degrees of Freedom    :          45\n",
        "\n",
        "R-squared           :    0.657220\n",
        "Adjusted R-squared  :      0.6344\n",
        "Sum squared residual:    4606.350  F-statistic           :     28.7599\n",
        "Sigma-square        :     102.363  Prob(F-statistic)     :1.538581e-10\n",
        "S.E. of regression  :      10.117  Log likelihood        :    -180.841\n",
        "Sigma-square ML     :      94.007  Akaike info criterion :     369.681\n",
        "S.E of regression ML:      9.6957  Schwarz criterion     :     377.248\n",
        "\n",
        "----------------------------------------------------------------------------\n",
        "    Variable     Coefficient       Std.Error     t-Statistic     Probability\n",
        "----------------------------------------------------------------------------\n",
        "    CONSTANT      37.7130530       9.3258120       4.0439431    0.0002034018\n",
        "       var_1      -0.8549484       0.3570007      -2.3948085      0.02085388\n",
        "       var_2      -0.2547246       0.0914552      -2.7852380     0.007799355\n",
        "       var_3       0.5595303       0.1508380       3.7094778    0.0005684874\n",
        "----------------------------------------------------------------------------\n",
        "\n",
        "REGRESSION DIAGNOSTICS\n",
        "MULTICOLLINEARITY CONDITION NUMBER   15.075866\n",
        "TEST ON NORMALITY OF ERRORS\n",
        "TEST                  DF          VALUE            PROB\n",
        "Jarque-Bera            2          26.243521        0.0000020\n",
        "\n",
        "DIAGNOSTICS FOR HETEROSKEDASTICITY\n",
        "RANDOM COEFFICIENTS\n",
        "TEST                  DF          VALUE            PROB\n",
        "Breusch-Pagan test     3          30.922573        0.0000009\n",
        "Koenker-Bassett test   3          11.684264        0.0085468\n",
        "\n",
        "SPECIFICATION ROBUST TEST\n",
        "TEST                  DF          VALUE            PROB\n",
        "White                  9          32.276636        0.0001783\n",
        "========================= END OF REPORT ==============================\n"
       ]
      }
     ],
     "prompt_number": 27
    },
    {
     "cell_type": "code",
     "collapsed": false,
     "input": [
      "cols = ps.spreg.OLS(y,X[:,1:])"
     ],
     "language": "python",
     "metadata": {},
     "outputs": [],
     "prompt_number": 29
    },
    {
     "cell_type": "code",
     "collapsed": false,
     "input": [
      "print cols.summary"
     ],
     "language": "python",
     "metadata": {},
     "outputs": [
      {
       "output_type": "stream",
       "stream": "stdout",
       "text": [
        "REGRESSION\n",
        "----------\n",
        "SUMMARY OF OUTPUT: ORDINARY LEAST SQUARES ESTIMATION\n",
        "----------------------------------------------------\n",
        "Data set            :      unknown\n",
        "Dependent Variable  :     dep_var  Number of Observations:          49\n",
        "Mean dependent var  :     35.1288  Number of Variables   :           3\n",
        "S.D. dependent var  :     16.7321  Degrees of Freedom    :          46\n",
        "\n",
        "R-squared           :    0.552404\n",
        "Adjusted R-squared  :      0.5329\n",
        "Sum squared residual:    6014.893  F-statistic           :     28.3856\n",
        "Sigma-square        :     130.759  Prob(F-statistic)     :9.340747e-09\n",
        "S.E. of regression  :      11.435  Log likelihood        :    -187.377\n",
        "Sigma-square ML     :     122.753  Akaike info criterion :     380.754\n",
        "S.E of regression ML:     11.0794  Schwarz criterion     :     386.430\n",
        "\n",
        "----------------------------------------------------------------------------\n",
        "    Variable     Coefficient       Std.Error     t-Statistic     Probability\n",
        "----------------------------------------------------------------------------\n",
        "    CONSTANT      68.6189611       4.7354861      14.4903731     9.21089e-19\n",
        "       var_1      -1.5973108       0.3341308      -4.7804962     1.82896e-05\n",
        "       var_2      -0.2739315       0.1031987      -2.6544086       0.0108745\n",
        "----------------------------------------------------------------------------\n",
        "\n",
        "REGRESSION DIAGNOSTICS\n",
        "MULTICOLLINEARITY CONDITION NUMBER    6.541828\n",
        "TEST ON NORMALITY OF ERRORS\n",
        "TEST                  DF          VALUE            PROB\n",
        "Jarque-Bera            2           1.835753        0.3993663\n",
        "\n",
        "DIAGNOSTICS FOR HETEROSKEDASTICITY\n",
        "RANDOM COEFFICIENTS\n",
        "TEST                  DF          VALUE            PROB\n",
        "Breusch-Pagan test     2           7.900442        0.0192505\n",
        "Koenker-Bassett test   2           5.694088        0.0580156\n",
        "\n",
        "SPECIFICATION ROBUST TEST\n",
        "TEST                  DF          VALUE            PROB\n",
        "White                  5          19.946008        0.0012792\n",
        "========================= END OF REPORT ==============================\n"
       ]
      }
     ],
     "prompt_number": 31
    },
    {
     "cell_type": "code",
     "collapsed": false,
     "input": [
      "diagnostics = ps.spreg.diagnostics_sp.LMtests(cols,w)\n"
     ],
     "language": "python",
     "metadata": {},
     "outputs": [],
     "prompt_number": 41
    },
    {
     "cell_type": "code",
     "collapsed": false,
     "input": [
      "print diagnostics.summary"
     ],
     "language": "python",
     "metadata": {},
     "outputs": [
      {
       "ename": "AttributeError",
       "evalue": "LMtests instance has no attribute 'summary'",
       "output_type": "pyerr",
       "traceback": [
        "\u001b[0;31m---------------------------------------------------------------------------\u001b[0m\n\u001b[0;31mAttributeError\u001b[0m                            Traceback (most recent call last)",
        "\u001b[0;32m<ipython-input-42-75445b6f0a92>\u001b[0m in \u001b[0;36m<module>\u001b[0;34m()\u001b[0m\n\u001b[0;32m----> 1\u001b[0;31m \u001b[0;32mprint\u001b[0m \u001b[0mdiagnostics\u001b[0m\u001b[0;34m.\u001b[0m\u001b[0msummary\u001b[0m\u001b[0;34m\u001b[0m\u001b[0m\n\u001b[0m",
        "\u001b[0;31mAttributeError\u001b[0m: LMtests instance has no attribute 'summary'"
       ]
      }
     ],
     "prompt_number": 42
    },
    {
     "cell_type": "code",
     "collapsed": false,
     "input": [
      "diagnostics."
     ],
     "language": "python",
     "metadata": {},
     "outputs": [
      {
       "output_type": "pyout",
       "prompt_number": 36,
       "text": [
        "(5.8148799344854325, 0.015891138229204915)"
       ]
      }
     ],
     "prompt_number": 36
    },
    {
     "cell_type": "code",
     "collapsed": false,
     "input": [
      "diagnostics.lml"
     ],
     "language": "python",
     "metadata": {},
     "outputs": [
      {
       "output_type": "pyout",
       "prompt_number": 37,
       "text": [
        "(8.75990710727819, 0.0030792473253606358)"
       ]
      }
     ],
     "prompt_number": 37
    },
    {
     "cell_type": "code",
     "collapsed": false,
     "input": [],
     "language": "python",
     "metadata": {},
     "outputs": []
    }
   ],
   "metadata": {}
  }
 ]
}