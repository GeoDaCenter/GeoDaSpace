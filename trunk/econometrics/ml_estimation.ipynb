{
 "metadata": {
  "name": "ml_estimation"
 },
 "nbformat": 3,
 "nbformat_minor": 0,
 "worksheets": [
  {
   "cells": [
    {
     "cell_type": "markdown",
     "metadata": {},
     "source": [
      "## Open GeoDa ##"
     ]
    },
    {
     "cell_type": "raw",
     "metadata": {},
     "source": [
      "\n",
      "Spatial Weight      : columbus_og_rook.gal\n",
      "Dependent Variable  :       CRIME  Number of Observations:   49\n",
      "Mean dependent var  :     35.1288  Number of Variables   :    4\n",
      "S.D. dependent var  :     16.5605  Degrees of Freedom    :   45\n",
      "Lag coeff.   (Rho)  :    0.422808\n",
      "\n",
      "R-squared           :    0.650962  Log likelihood        :    -182.518\n",
      "Sq. Correlation     : -            Akaike info criterion :     373.035\n",
      "Sigma-square        :     95.7235  Schwarz criterion     :     380.603\n",
      "S.E of regression   :     9.78384\n",
      "\n",
      "-----------------------------------------------------------------------\n",
      "\n",
      "    Variable    Coefficient     Std.Error       z-value   Probability \n",
      "-----------------------------------------------------------------------\n",
      "     W_CRIME     0.4228079      0.1155777       3.658213    0.0002540\n",
      "    CONSTANT      45.26498       7.175796       6.308007    0.0000000\n",
      "         INC     -1.036346      0.3052524      -3.395047    0.0006863\n",
      "       HOVAL    -0.2594178     0.08879673      -2.921479    0.0034839\n",
      "-----------------------------------------------------------------------\n",
      "\n",
      "REGRESSION DIAGNOSTICS\n",
      "DIAGNOSTICS FOR HETEROSKEDASTICITY \n",
      "RANDOM COEFFICIENTSresults\n",
      "TEST                                     DF     VALUE         PROB\n",
      "Breusch-Pagan test                       2       23.57973     0.0000076\n",
      "\n",
      "DIAGNOSTICS FOR SPATIAL DEPENDENCE\n",
      "SPATIAL LAG DEPENDENCE FOR WEIGHT MATRIX : columbus_og_rook.gal\n",
      "TEST                                     DF      VALUE        PROB\n",
      "Likelihood Ratio Test                    1       9.719246     0.0018235\n",
      "\n",
      "COEFFICIENTS VARIANCE MATRIX\n",
      "   CONSTANT         INC       HOVAL     W_CRIME \n",
      "  51.492052   -1.323566   -0.173965   -0.684506 \n",
      "  -1.323566    0.093179   -0.011612    0.012367 \n",
      "  -0.173965   -0.011612    0.007885    0.001087 \n",
      "  -0.684506    0.012367    0.001087    0.013358 \n",
      "\n",
      "========================= END OF REPORT==============================\n"
     ]
    },
    {
     "cell_type": "code",
     "collapsed": false,
     "input": [
      "import pysal as ps\n",
      "from ml import ML_Lag, ML_Error"
     ],
     "language": "python",
     "metadata": {},
     "outputs": [],
     "prompt_number": 19
    },
    {
     "cell_type": "code",
     "collapsed": false,
     "input": [
      "db =  ps.open(ps.examples.get_path('columbus.dbf'),'r')\n",
      "y = np.array(db.by_col(\"CRIME\"))\n",
      "y.shape = (len(y),1)\n",
      "X = []\n",
      "X.append(db.by_col(\"INC\"))\n",
      "X.append(db.by_col(\"HOVAL\"))\n",
      "X = np.array(X).T\n",
      "#w = ps.open(ps.examples.get_path(\"columbus.gal\")).read()\n",
      "w = ps.rook_from_shapefile(ps.examples.get_path(\"columbus.shp\"))\n",
      "w.transform = 'r'\n",
      "X = np.hstack((np.ones((w.n,1)),X))\n",
      "bml = ML_Lag(y,w,X, verbose=True, like='FULL')\n"
     ],
     "language": "python",
     "metadata": {},
     "outputs": [
      {
       "output_type": "stream",
       "stream": "stdout",
       "text": [
        "\n",
        "Maximum Likelihood Estimation of Spatial Lag Model\n",
        "Iter.\t          LL\t         RHO\t          UL\t         DFR\n",
        "0\t  0.11190606\t  0.33571817\t  0.55953029\t -9.82436995\n",
        "1\t  0.33571817\t  0.44762423\t  0.55953029\t -9.82436995\n",
        "2\t  0.33571817\t  0.39167120\t  0.44762423\t -1.66773259\n",
        "3\t  0.39167120\t  0.41964772\t  0.44762423\t -1.66773259\n",
        "4\t  0.41964772\t  0.43363597\t  0.44762423\t -1.66773259\n",
        "5\t  0.41964772\t  0.42664184\t  0.43363597\t -0.72148755\n",
        "6\t  0.41964772\t  0.42314478\t  0.42664184\t -0.25436375\n",
        "7\t  0.41964772\t  0.42139625\t  0.42314478\t -0.02230275\n",
        "8\t  0.42139625\t  0.42227051\t  0.42314478\t -0.02230275\n",
        "9\t  0.42227051\t  0.42270765\t  0.42314478\t -0.02230275\n",
        "10\t  0.42270765\t  0.42292621\t  0.42314478\t -0.02230275\n",
        "11\t  0.42270765\t  0.42281693\t  0.42292621\t -0.00783217\n",
        "12\t  0.42270765\t  0.42276229\t  0.42281693\t -0.00059836\n",
        "13\t  0.42276229\t  0.42278961\t  0.42281693\t -0.00059836\n",
        "14\t  0.42278961\t  0.42280327\t  0.42281693\t -0.00059836\n",
        "15\t  0.42280327\t  0.42281010\t  0.42281693\t -0.00059836\n",
        "16\t  0.42280327\t  0.42280668\t  0.42281010\t -0.00014628\n",
        "17\t  0.42280668\t  0.42280839\t  0.42281010\t -0.00014628\n",
        "18\t  0.42280668\t  0.42280754\t  0.42280839\t -0.00003326\n",
        "19\t  0.42280754\t  0.42280797\t  0.42280839\t -0.00003326\n",
        "20\t  0.42280754\t  0.42280775\t  0.42280797\t -0.00000500\n",
        "21\t  0.42280775\t  0.42280786\t  0.42280797\t -0.00000500\n",
        "22\t  0.42280786\t  0.42280791\t  0.42280797\t -0.00000500\n"
       ]
      }
     ],
     "prompt_number": 20
    },
    {
     "cell_type": "code",
     "collapsed": false,
     "input": [
      "bml_ord = ML_Lag(y,w,X, verbose=True, like='ORD')"
     ],
     "language": "python",
     "metadata": {},
     "outputs": [
      {
       "output_type": "stream",
       "stream": "stdout",
       "text": [
        "\n",
        "Maximum Likelihood Estimation of Spatial Lag Model\n",
        "Iter.\t          LL\t         RHO\t          UL\t         DFR\n",
        "0\t  0.11190606\t  0.33571817\t  0.55953029\t -9.82436995\n",
        "1\t  0.33571817\t  0.44762423\t  0.55953029\t -9.82436995\n",
        "2\t  0.33571817\t  0.39167120\t  0.44762423\t -1.66773259\n",
        "3\t  0.39167120\t  0.41964772\t  0.44762423\t -1.66773259\n",
        "4\t  0.41964772\t  0.43363597\t  0.44762423\t -1.66773259\n",
        "5\t  0.41964772\t  0.42664184\t  0.43363597\t -0.72148755\n",
        "6\t  0.41964772\t  0.42314478\t  0.42664184\t -0.25436375\n",
        "7\t  0.41964772\t  0.42139625\t  0.42314478\t -0.02230275\n",
        "8\t  0.42139625\t  0.42227051\t  0.42314478\t -0.02230275\n",
        "9\t  0.42227051\t  0.42270765\t  0.42314478\t -0.02230275\n",
        "10\t  0.42270765\t  0.42292621\t  0.42314478\t -0.02230275\n",
        "11\t  0.42270765\t  0.42281693\t  0.42292621\t -0.00783217\n",
        "12\t  0.42270765\t  0.42276229\t  0.42281693\t -0.00059836\n",
        "13\t  0.42276229\t  0.42278961\t  0.42281693\t -0.00059836\n",
        "14\t  0.42278961\t  0.42280327\t  0.42281693\t -0.00059836\n",
        "15\t  0.42280327\t  0.42281010\t  0.42281693\t -0.00059836\n",
        "16\t  0.42280327\t  0.42280668\t  0.42281010\t -0.00014628\n",
        "17\t  0.42280668\t  0.42280839\t  0.42281010\t -0.00014628\n",
        "18\t  0.42280668\t  0.42280754\t  0.42280839\t -0.00003326\n",
        "19\t  0.42280754\t  0.42280797\t  0.42280839\t -0.00003326\n",
        "20\t  0.42280754\t  0.42280775\t  0.42280797\t -0.00000500\n",
        "21\t  0.42280775\t  0.42280786\t  0.42280797\t -0.00000500\n",
        "22\t  0.42280786\t  0.42280791\t  0.42280797\t -0.00000500\n"
       ]
      }
     ],
     "prompt_number": 21
    },
    {
     "cell_type": "code",
     "collapsed": false,
     "input": [
      "bml_ord['llik']"
     ],
     "language": "python",
     "metadata": {},
     "outputs": [
      {
       "output_type": "pyout",
       "prompt_number": 22,
       "text": [
        "-181.61231006286988"
       ]
      }
     ],
     "prompt_number": 22
    },
    {
     "cell_type": "code",
     "collapsed": false,
     "input": [
      "bml['llik']"
     ],
     "language": "python",
     "metadata": {},
     "outputs": [
      {
       "output_type": "pyout",
       "prompt_number": 23,
       "text": [
        "-182.51761573191706"
       ]
      }
     ],
     "prompt_number": 23
    },
    {
     "cell_type": "markdown",
     "metadata": {},
     "source": [
      "Note that using the full evaluation of the Jacobian results in the value for the log likelihood matching that in OpenGeoDa. However, when the Ord approach is used, the value of the log likelihood is slightly lower (in absolute value)."
     ]
    },
    {
     "cell_type": "markdown",
     "metadata": {},
     "source": [
      "## Asymptotic Standard Errors##"
     ]
    },
    {
     "cell_type": "code",
     "collapsed": false,
     "input": [
      "bml.keys()"
     ],
     "language": "python",
     "metadata": {},
     "outputs": [
      {
       "output_type": "pyout",
       "prompt_number": 24,
       "text": [
        "['VCV',\n",
        " 'se_b',\n",
        " 'z_rho',\n",
        " 'z_b',\n",
        " 'sig2',\n",
        " 'betas',\n",
        " 'rho',\n",
        " 'se_rho',\n",
        " 'se_sig2',\n",
        " 'llik']"
       ]
      }
     ],
     "prompt_number": 24
    },
    {
     "cell_type": "code",
     "collapsed": false,
     "input": [
      "bml['z_b']"
     ],
     "language": "python",
     "metadata": {},
     "outputs": [
      {
       "output_type": "pyout",
       "prompt_number": 25,
       "text": [
        "array([[ 6.8259332 ],\n",
        "       [-3.44065292],\n",
        "       [-2.92499594]])"
       ]
      }
     ],
     "prompt_number": 25
    },
    {
     "cell_type": "code",
     "collapsed": false,
     "input": [
      "bml['z_rho']"
     ],
     "language": "python",
     "metadata": {},
     "outputs": [
      {
       "output_type": "pyout",
       "prompt_number": 26,
       "text": [
        "4.1271246167865829"
       ]
      }
     ],
     "prompt_number": 26
    },
    {
     "cell_type": "code",
     "collapsed": false,
     "input": [
      "bml['rho']"
     ],
     "language": "python",
     "metadata": {},
     "outputs": [
      {
       "output_type": "pyout",
       "prompt_number": 27,
       "text": [
        "0.4228079118097845"
       ]
      }
     ],
     "prompt_number": 27
    },
    {
     "cell_type": "code",
     "collapsed": false,
     "input": [
      "vcv = bml['VCV']"
     ],
     "language": "python",
     "metadata": {},
     "outputs": [],
     "prompt_number": 28
    },
    {
     "cell_type": "code",
     "collapsed": false,
     "input": [
      "vcv"
     ],
     "language": "python",
     "metadata": {},
     "outputs": [
      {
       "output_type": "pyout",
       "prompt_number": 29,
       "text": [
        "array([[   0.01049521,   -0.53779892,    0.00971631,    0.00085383,\n",
        "          -0.26350414],\n",
        "       [  -0.53779892,   43.97445898,   -1.18774718,   -0.16202979,\n",
        "          13.50256641],\n",
        "       [   0.00971631,   -1.18774718,    0.09072521,   -0.01182792,\n",
        "          -0.24394837],\n",
        "       [   0.00085383,   -0.16202979,   -0.01182792,    0.00786591,\n",
        "          -0.02143716],\n",
        "       [  -0.26350414,   13.50256641,   -0.24394837,   -0.02143716,\n",
        "         380.61531708]])"
       ]
      }
     ],
     "prompt_number": 29
    },
    {
     "cell_type": "code",
     "collapsed": false,
     "input": [
      "perm = [1,2,3,0]\n",
      "vcv[perm][:,perm]"
     ],
     "language": "python",
     "metadata": {},
     "outputs": [
      {
       "output_type": "pyout",
       "prompt_number": 30,
       "text": [
        "array([[ 43.97445898,  -1.18774718,  -0.16202979,  -0.53779892],\n",
        "       [ -1.18774718,   0.09072521,  -0.01182792,   0.00971631],\n",
        "       [ -0.16202979,  -0.01182792,   0.00786591,   0.00085383],\n",
        "       [ -0.53779892,   0.00971631,   0.00085383,   0.01049521]])"
       ]
      }
     ],
     "prompt_number": 30
    },
    {
     "cell_type": "code",
     "collapsed": false,
     "input": [
      "np.set_printoptions(suppress=True)\n",
      "print(vcv[perm][:,perm])"
     ],
     "language": "python",
     "metadata": {},
     "outputs": [
      {
       "output_type": "stream",
       "stream": "stdout",
       "text": [
        "[[ 43.97445898  -1.18774718  -0.16202979  -0.53779892]\n",
        " [ -1.18774718   0.09072521  -0.01182792   0.00971631]\n",
        " [ -0.16202979  -0.01182792   0.00786591   0.00085383]\n",
        " [ -0.53779892   0.00971631   0.00085383   0.01049521]]\n"
       ]
      }
     ],
     "prompt_number": 31
    },
    {
     "cell_type": "code",
     "collapsed": false,
     "input": [
      "bml['z_b']"
     ],
     "language": "python",
     "metadata": {},
     "outputs": [
      {
       "output_type": "pyout",
       "prompt_number": 32,
       "text": [
        "array([[ 6.8259332 ],\n",
        "       [-3.44065292],\n",
        "       [-2.92499594]])"
       ]
      }
     ],
     "prompt_number": 32
    },
    {
     "cell_type": "code",
     "collapsed": false,
     "input": [
      "bml['z_rho']"
     ],
     "language": "python",
     "metadata": {},
     "outputs": [
      {
       "output_type": "pyout",
       "prompt_number": 33,
       "text": [
        "4.1271246167865829"
       ]
      }
     ],
     "prompt_number": 33
    },
    {
     "cell_type": "code",
     "collapsed": false,
     "input": [
      "print(vcv[perm])"
     ],
     "language": "python",
     "metadata": {},
     "outputs": [
      {
       "output_type": "stream",
       "stream": "stdout",
       "text": [
        "[[ -0.53779892  43.97445898  -1.18774718  -0.16202979  13.50256641]\n",
        " [  0.00971631  -1.18774718   0.09072521  -0.01182792  -0.24394837]\n",
        " [  0.00085383  -0.16202979  -0.01182792   0.00786591  -0.02143716]\n",
        " [  0.01049521  -0.53779892   0.00971631   0.00085383  -0.26350414]]\n"
       ]
      }
     ],
     "prompt_number": 34
    },
    {
     "cell_type": "raw",
     "metadata": {},
     "source": [
      "\n",
      "Spatial Weight      : columbus_og_rook.gal\n",
      "Dependent Variable  :       CRIME  Number of Observations:   49\n",
      "Mean dependent var  :     35.1288  Number of Variables   :    4\n",
      "S.D. dependent var  :     16.5605  Degrees of Freedom    :   45\n",
      "Lag coeff.   (Rho)  :    0.422808\n",
      "\n",
      "R-squared           :    0.650962  Log likelihood        :    -182.518\n",
      "Sq. Correlation     : -            Akaike info criterion :     373.035\n",
      "Sigma-square        :     95.7235  Schwarz criterion     :     380.603\n",
      "S.E of regression   :     9.78384\n",
      "\n",
      "-----------------------------------------------------------------------\n",
      "\n",
      "    Variable    Coefficient     Std.Error       z-value   Probability \n",
      "-----------------------------------------------------------------------\n",
      "     W_CRIME     0.4228079      0.1155777       3.658213    0.0002540\n",
      "    CONSTANT      45.26498       7.175796       6.308007    0.0000000\n",
      "         INC     -1.036346      0.3052524      -3.395047    0.0006863\n",
      "       HOVAL    -0.2594178     0.08879673      -2.921479    0.0034839\n",
      "-----------------------------------------------------------------------\n",
      "\n",
      "REGRESSION DIAGNOSTICS\n",
      "DIAGNOSTICS FOR HETEROSKEDASTICITY \n",
      "RANDOM COEFFICIENTSresults\n",
      "TEST                                     DF     VALUE         PROB\n",
      "Breusch-Pagan test                       2       23.57973     0.0000076\n",
      "\n",
      "DIAGNOSTICS FOR SPATIAL DEPENDENCE\n",
      "SPATIAL LAG DEPENDENCE FOR WEIGHT MATRIX : columbus_og_rook.gal\n",
      "TEST                                     DF      VALUE        PROB\n",
      "Likelihood Ratio Test                    1       9.719246     0.0018235\n",
      "\n",
      "COEFFICIENTS VARIANCE MATRIX\n",
      "   CONSTANT         INC       HOVAL     W_CRIME \n",
      "  51.492052   -1.323566   -0.173965   -0.684506 \n",
      "  -1.323566    0.093179   -0.011612    0.012367 \n",
      "  -0.173965   -0.011612    0.007885    0.001087 \n",
      "  -0.684506    0.012367    0.001087    0.013358 \n",
      "\n",
      "========================= END OF REPORT==============================\n"
     ]
    },
    {
     "cell_type": "code",
     "collapsed": false,
     "input": [
      "print(vcv[perm][:,perm])"
     ],
     "language": "python",
     "metadata": {},
     "outputs": [
      {
       "output_type": "stream",
       "stream": "stdout",
       "text": [
        "[[ 43.97445898  -1.18774718  -0.16202979  -0.53779892]\n",
        " [ -1.18774718   0.09072521  -0.01182792   0.00971631]\n",
        " [ -0.16202979  -0.01182792   0.00786591   0.00085383]\n",
        " [ -0.53779892   0.00971631   0.00085383   0.01049521]]\n"
       ]
      }
     ],
     "prompt_number": 35
    },
    {
     "cell_type": "markdown",
     "metadata": {},
     "source": [
      "## Spatial Error Model"
     ]
    },
    {
     "cell_type": "code",
     "collapsed": false,
     "input": [
      "bmle = ML_Error(y,w,X, verbose=True)"
     ],
     "language": "python",
     "metadata": {},
     "outputs": [
      {
       "output_type": "stream",
       "stream": "stdout",
       "text": [
        "\n",
        "Maximum Likelihood Estimation of Spatial Error Model\n",
        "Iter.\t          LL\t      LAMBDA\t          UL\t        dlik\n",
        "0\t  0.00000000\t  0.49995000\t  0.99990000\t 12.24326148\n",
        "1\t  0.49995000\t  0.74992500\t  0.99990000\t  1.98119262\n",
        "2\t  0.49995000\t  0.62493750\t  0.74992500\t-13.44919470\n",
        "3\t  0.49995000\t  0.56244375\t  0.62493750\t -3.91551629\n",
        "4\t  0.49995000\t  0.53119687\t  0.56244375\t -0.63644081\n",
        "5\t  0.53119687\t  0.54682031\t  0.56244375\t  0.74449669\n",
        "6\t  0.54682031\t  0.55463203\t  0.56244375\t  0.07325439\n",
        "7\t  0.54682031\t  0.55072617\t  0.55463203\t -0.27662781\n",
        "8\t  0.54682031\t  0.54877324\t  0.55072617\t -0.10046566\n",
        "9\t  0.54682031\t  0.54779678\t  0.54877324\t -0.01330287\n",
        "10\t  0.54779678\t  0.54828501\t  0.54877324\t  0.03005114\n",
        "11\t  0.54828501\t  0.54852913\t  0.54877324\t  0.00839302\n",
        "12\t  0.54828501\t  0.54840707\t  0.54852913\t -0.00245020\n",
        "13\t  0.54840707\t  0.54846810\t  0.54852913\t  0.00297259\n",
        "14\t  0.54846810\t  0.54849861\t  0.54852913\t  0.00026149\n",
        "15\t  0.54846810\t  0.54848335\t  0.54849861\t -0.00109428\n",
        "16\t  0.54846810\t  0.54847573\t  0.54848335\t -0.00041638\n",
        "17\t  0.54846810\t  0.54847191\t  0.54847573\t -0.00007744\n",
        "18\t  0.54847191\t  0.54847382\t  0.54847573\t  0.00009203\n",
        "19\t  0.54847382\t  0.54847477\t  0.54847573\t  0.00000729\n",
        "20\t  0.54847382\t  0.54847430\t  0.54847477\t -0.00003507\n",
        "21\t  0.54847382\t  0.54847406\t  0.54847430\t -0.00001389\n",
        "22\t  0.54847382\t  0.54847394\t  0.54847406\t -0.00000330\n"
       ]
      }
     ],
     "prompt_number": 36
    },
    {
     "cell_type": "raw",
     "metadata": {},
     "source": [
      "SUMMARY OF OUTPUT: SPATIAL ERROR MODEL - MAXIMUM LIKELIHOOD ESTIMATION \n",
      "Data set            : columbus\n",
      "Spatial Weight      : columbus_q_og.gal\n",
      "Dependent Variable  :       CRIME  Number of Observations:   49\n",
      "Mean dependent var  :   35.128824  Number of Variables   :    3\n",
      "S.D. dependent var  :   16.560476  Degrees of Freedom    :   46\n",
      "Lag coeff. (Lambda) :    0.520888\n",
      "\n",
      "R-squared           :    0.635442  R-squared (BUSE)      : - \n",
      "Sq. Correlation     : -            Log likelihood        : -184.155205\n",
      "Sigma-square        :     99.9799  Akaike info criterion :      374.31\n",
      "S.E of regression   :       9.999  Schwarz criterion     :     379.986\n",
      "\n",
      "-----------------------------------------------------------------------\n",
      "    Variable    Coefficient     Std.Error       z-value   Probability \n",
      "-----------------------------------------------------------------------\n",
      "    CONSTANT      61.05362       5.314875       11.48731    0.0000000\n",
      "         INC    -0.9954728      0.3370251      -2.953705    0.0031400\n",
      "       HOVAL    -0.3079794     0.09258353      -3.326503    0.0008795\n",
      "      LAMBDA     0.5208877      0.1412862       3.686755    0.0002272\n",
      "-----------------------------------------------------------------------\n",
      "\n",
      "REGRESSION DIAGNOSTICS\n",
      "DIAGNOSTICS FOR HETEROSKEDASTICITY \n",
      "RANDOM COEFFICIENTS\n",
      "TEST                                     DF     VALUE         PROB\n",
      "Breusch-Pagan test                       2       17.44122     0.0001632\n",
      "\n",
      "DIAGNOSTICS FOR SPATIAL DEPENDENCE \n",
      "SPATIAL ERROR DEPENDENCE FOR WEIGHT MATRIX : columbus_q_og.gal\n",
      "TEST                                     DF      VALUE        PROB \n",
      "Likelihood Ratio Test                    1       6.444068     0.0111323\n",
      "\n",
      "COEFFICIENTS VARIANCE MATRIX\n",
      "   CONSTANT         INC       HOVAL      LAMBDA \n",
      "  28.247893   -1.040756   -0.126273    0.000000 \n",
      "  -1.040756    0.113586   -0.014343    0.000000 \n",
      "  -0.126273   -0.014343    0.008572    0.000000 \n",
      "   0.000000    0.000000    0.000000    0.019962 \n",
      "\n",
      "========================= END OF REPORT==============================\n",
      "\n"
     ]
    },
    {
     "cell_type": "code",
     "collapsed": false,
     "input": [
      "bmle"
     ],
     "language": "python",
     "metadata": {},
     "outputs": [
      {
       "output_type": "pyout",
       "prompt_number": 37,
       "text": [
        "(array([[ 60.37518839],\n",
        "       [ -0.96104362],\n",
        "       [ -0.30319815]]),\n",
        " 0.5484739971935747)"
       ]
      }
     ],
     "prompt_number": 37
    },
    {
     "cell_type": "code",
     "collapsed": false,
     "input": [
      "w = ps.open(ps.examples.get_path(\"columbus_q_og.gal\")).read()"
     ],
     "language": "python",
     "metadata": {},
     "outputs": [],
     "prompt_number": 38
    },
    {
     "cell_type": "code",
     "collapsed": false,
     "input": [
      "w.n"
     ],
     "language": "python",
     "metadata": {},
     "outputs": [
      {
       "output_type": "pyout",
       "prompt_number": 39,
       "text": [
        "49"
       ]
      }
     ],
     "prompt_number": 39
    },
    {
     "cell_type": "code",
     "collapsed": false,
     "input": [
      "w.transform='r'\n",
      "bmle_og = ML_Error(y,w,X, verbose=True)"
     ],
     "language": "python",
     "metadata": {},
     "outputs": [
      {
       "output_type": "stream",
       "stream": "stdout",
       "text": [
        "\n",
        "Maximum Likelihood Estimation of Spatial Error Model\n",
        "Iter.\t          LL\t      LAMBDA\t          UL\t        dlik\n",
        "0\t  0.00000000\t  0.49995000\t  0.99990000\t 10.40633347\n",
        "1\t  0.49995000\t  0.74992500\t  0.99990000\t  0.75336956\n",
        "2\t  0.49995000\t  0.62493750\t  0.74992500\t-13.32386858\n",
        "3\t  0.49995000\t  0.56244375\t  0.62493750\t -4.66916518\n",
        "4\t  0.49995000\t  0.53119688\t  0.56244375\t -1.66380805\n",
        "5\t  0.49995000\t  0.51557344\t  0.53119688\t -0.39095545\n",
        "6\t  0.51557344\t  0.52338516\t  0.53119688\t  0.19626319\n",
        "7\t  0.51557344\t  0.51947930\t  0.52338516\t -0.09346116\n",
        "8\t  0.51947930\t  0.52143223\t  0.52338516\t  0.05235683\n",
        "9\t  0.51947930\t  0.52045576\t  0.52143223\t -0.02031130\n",
        "10\t  0.52045576\t  0.52094399\t  0.52143223\t  0.01608274\n",
        "11\t  0.52045576\t  0.52069988\t  0.52094399\t -0.00209926\n",
        "12\t  0.52069988\t  0.52082194\t  0.52094399\t  0.00699550\n",
        "13\t  0.52082194\t  0.52088297\t  0.52094399\t  0.00244906\n",
        "14\t  0.52088297\t  0.52091348\t  0.52094399\t  0.00017514\n",
        "15\t  0.52088297\t  0.52089822\t  0.52091348\t -0.00096200\n",
        "16\t  0.52088297\t  0.52089059\t  0.52089822\t -0.00039342\n",
        "17\t  0.52088297\t  0.52088678\t  0.52089059\t -0.00010914\n",
        "18\t  0.52088678\t  0.52088869\t  0.52089059\t  0.00003300\n",
        "19\t  0.52088678\t  0.52088773\t  0.52088869\t -0.00003807\n",
        "20\t  0.52088678\t  0.52088726\t  0.52088773\t -0.00000253\n",
        "21\t  0.52088726\t  0.52088749\t  0.52088773\t  0.00001523\n",
        "22\t  0.52088749\t  0.52088761\t  0.52088773\t  0.00000635\n"
       ]
      }
     ],
     "prompt_number": 40
    },
    {
     "cell_type": "markdown",
     "metadata": {},
     "source": [
      "Note that now we match OG since the gal matrix from geoda is different than the one in pysal!"
     ]
    },
    {
     "cell_type": "code",
     "collapsed": false,
     "input": [
      "bmle_og"
     ],
     "language": "python",
     "metadata": {},
     "outputs": [
      {
       "output_type": "pyout",
       "prompt_number": 41,
       "text": [
        "(array([[ 61.05361921],\n",
        "       [ -0.99547282],\n",
        "       [ -0.30797937]]),\n",
        " 0.52088767338395325)"
       ]
      }
     ],
     "prompt_number": 41
    },
    {
     "cell_type": "code",
     "collapsed": false,
     "input": [],
     "language": "python",
     "metadata": {},
     "outputs": []
    }
   ],
   "metadata": {}
  }
 ]
}