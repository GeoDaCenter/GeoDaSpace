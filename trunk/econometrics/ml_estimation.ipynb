{
 "metadata": {
  "name": "ml_estimation"
 },
 "nbformat": 3,
 "nbformat_minor": 0,
 "worksheets": [
  {
   "cells": [
    {
     "cell_type": "markdown",
     "metadata": {},
     "source": [
      "## Open GeoDa ##"
     ]
    },
    {
     "cell_type": "raw",
     "metadata": {},
     "source": [
      "\n",
      "Spatial Weight      : columbus_og_rook.gal\n",
      "Dependent Variable  :       CRIME  Number of Observations:   49\n",
      "Mean dependent var  :     35.1288  Number of Variables   :    4\n",
      "S.D. dependent var  :     16.5605  Degrees of Freedom    :   45\n",
      "Lag coeff.   (Rho)  :    0.422808\n",
      "\n",
      "R-squared           :    0.650962  Log likelihood        :    -182.518\n",
      "Sq. Correlation     : -            Akaike info criterion :     373.035\n",
      "Sigma-square        :     95.7235  Schwarz criterion     :     380.603\n",
      "S.E of regression   :     9.78384\n",
      "\n",
      "-----------------------------------------------------------------------\n",
      "\n",
      "    Variable    Coefficient     Std.Error       z-value   Probability \n",
      "-----------------------------------------------------------------------\n",
      "     W_CRIME     0.4228079      0.1155777       3.658213    0.0002540\n",
      "    CONSTANT      45.26498       7.175796       6.308007    0.0000000\n",
      "         INC     -1.036346      0.3052524      -3.395047    0.0006863\n",
      "       HOVAL    -0.2594178     0.08879673      -2.921479    0.0034839\n",
      "-----------------------------------------------------------------------\n",
      "\n",
      "REGRESSION DIAGNOSTICS\n",
      "DIAGNOSTICS FOR HETEROSKEDASTICITY \n",
      "RANDOM COEFFICIENTSresults\n",
      "TEST                                     DF     VALUE         PROB\n",
      "Breusch-Pagan test                       2       23.57973     0.0000076\n",
      "\n",
      "DIAGNOSTICS FOR SPATIAL DEPENDENCE\n",
      "SPATIAL LAG DEPENDENCE FOR WEIGHT MATRIX : columbus_og_rook.gal\n",
      "TEST                                     DF      VALUE        PROB\n",
      "Likelihood Ratio Test                    1       9.719246     0.0018235\n",
      "\n",
      "COEFFICIENTS VARIANCE MATRIX\n",
      "   CONSTANT         INC       HOVAL     W_CRIME \n",
      "  51.492052   -1.323566   -0.173965   -0.684506 \n",
      "  -1.323566    0.093179   -0.011612    0.012367 \n",
      "  -0.173965   -0.011612    0.007885    0.001087 \n",
      "  -0.684506    0.012367    0.001087    0.013358 \n",
      "\n",
      "========================= END OF REPORT==============================\n"
     ]
    },
    {
     "cell_type": "code",
     "collapsed": false,
     "input": [
      "import pysal as ps\n",
      "from ml import ML_Lag"
     ],
     "language": "python",
     "metadata": {},
     "outputs": [],
     "prompt_number": 1
    },
    {
     "cell_type": "code",
     "collapsed": false,
     "input": [
      "db =  ps.open(ps.examples.get_path('columbus.dbf'),'r')\n",
      "y = np.array(db.by_col(\"CRIME\"))\n",
      "y.shape = (len(y),1)\n",
      "X = []\n",
      "X.append(db.by_col(\"INC\"))\n",
      "X.append(db.by_col(\"HOVAL\"))\n",
      "X = np.array(X).T\n",
      "#w = ps.open(ps.examples.get_path(\"columbus.gal\")).read()\n",
      "w = ps.rook_from_shapefile(ps.examples.get_path(\"columbus.shp\"))\n",
      "w.transform = 'r'\n",
      "X = np.hstack((np.ones((w.n,1)),X))\n",
      "bml = ML_Lag(y,w,X, verbose=True, like='FULL')\n"
     ],
     "language": "python",
     "metadata": {},
     "outputs": [
      {
       "output_type": "stream",
       "stream": "stdout",
       "text": [
        "\n",
        "Maximum Likelihood Estimation of Spatial Lag Model\n",
        "Iter.\t          LL\t         RHO\t          UL\t         DFR\n",
        "0\t  0.11190606\t  0.33571817\t  0.55953029\t -9.82436995\n",
        "1\t  0.33571817\t  0.44762423\t  0.55953029\t -9.82436995\n",
        "2\t  0.33571817\t  0.39167120\t  0.44762423\t -1.66773259\n",
        "3\t  0.39167120\t  0.41964772\t  0.44762423\t -1.66773259\n",
        "4\t  0.41964772\t  0.43363597\t  0.44762423\t -1.66773259\n",
        "5\t  0.41964772\t  0.42664184\t  0.43363597\t -0.72148755\n",
        "6\t  0.41964772\t  0.42314478\t  0.42664184\t -0.25436375\n",
        "7\t  0.41964772\t  0.42139625\t  0.42314478\t -0.02230275\n",
        "8\t  0.42139625\t  0.42227051\t  0.42314478\t -0.02230275\n",
        "9\t  0.42227051\t  0.42270765\t  0.42314478\t -0.02230275\n",
        "10\t  0.42270765\t  0.42292621\t  0.42314478\t -0.02230275\n",
        "11\t  0.42270765\t  0.42281693\t  0.42292621\t -0.00783217\n",
        "12\t  0.42270765\t  0.42276229\t  0.42281693\t -0.00059836\n",
        "13\t  0.42276229\t  0.42278961\t  0.42281693\t -0.00059836\n",
        "14\t  0.42278961\t  0.42280327\t  0.42281693\t -0.00059836\n",
        "15\t  0.42280327\t  0.42281010\t  0.42281693\t -0.00059836\n",
        "16\t  0.42280327\t  0.42280668\t  0.42281010\t -0.00014628\n",
        "17\t  0.42280668\t  0.42280839\t  0.42281010\t -0.00014628\n",
        "18\t  0.42280668\t  0.42280754\t  0.42280839\t -0.00003326\n",
        "19\t  0.42280754\t  0.42280797\t  0.42280839\t -0.00003326\n",
        "20\t  0.42280754\t  0.42280775\t  0.42280797\t -0.00000500\n",
        "21\t  0.42280775\t  0.42280786\t  0.42280797\t -0.00000500\n",
        "22\t  0.42280786\t  0.42280791\t  0.42280797\t -0.00000500\n"
       ]
      }
     ],
     "prompt_number": 2
    },
    {
     "cell_type": "code",
     "collapsed": false,
     "input": [
      "bml_ord = ML_Lag(y,w,X, verbose=True, like='ORD')"
     ],
     "language": "python",
     "metadata": {},
     "outputs": [
      {
       "output_type": "stream",
       "stream": "stdout",
       "text": [
        "\n",
        "Maximum Likelihood Estimation of Spatial Lag Model\n",
        "Iter.\t          LL\t         RHO\t          UL\t         DFR\n",
        "0\t  0.11190606\t  0.33571817\t  0.55953029\t -9.82436995\n",
        "1\t  0.33571817\t  0.44762423\t  0.55953029\t -9.82436995\n",
        "2\t  0.33571817\t  0.39167120\t  0.44762423\t -1.66773259\n",
        "3\t  0.39167120\t  0.41964772\t  0.44762423\t -1.66773259\n",
        "4\t  0.41964772\t  0.43363597\t  0.44762423\t -1.66773259\n",
        "5\t  0.41964772\t  0.42664184\t  0.43363597\t -0.72148755\n",
        "6\t  0.41964772\t  0.42314478\t  0.42664184\t -0.25436375\n",
        "7\t  0.41964772\t  0.42139625\t  0.42314478\t -0.02230275\n",
        "8\t  0.42139625\t  0.42227051\t  0.42314478\t -0.02230275\n",
        "9\t  0.42227051\t  0.42270765\t  0.42314478\t -0.02230275\n",
        "10\t  0.42270765\t  0.42292621\t  0.42314478\t -0.02230275\n",
        "11\t  0.42270765\t  0.42281693\t  0.42292621\t -0.00783217\n",
        "12\t  0.42270765\t  0.42276229\t  0.42281693\t -0.00059836\n",
        "13\t  0.42276229\t  0.42278961\t  0.42281693\t -0.00059836\n",
        "14\t  0.42278961\t  0.42280327\t  0.42281693\t -0.00059836\n",
        "15\t  0.42280327\t  0.42281010\t  0.42281693\t -0.00059836\n",
        "16\t  0.42280327\t  0.42280668\t  0.42281010\t -0.00014628\n",
        "17\t  0.42280668\t  0.42280839\t  0.42281010\t -0.00014628\n",
        "18\t  0.42280668\t  0.42280754\t  0.42280839\t -0.00003326\n",
        "19\t  0.42280754\t  0.42280797\t  0.42280839\t -0.00003326\n",
        "20\t  0.42280754\t  0.42280775\t  0.42280797\t -0.00000500\n",
        "21\t  0.42280775\t  0.42280786\t  0.42280797\t -0.00000500\n",
        "22\t  0.42280786\t  0.42280791\t  0.42280797\t -0.00000500\n"
       ]
      }
     ],
     "prompt_number": 3
    },
    {
     "cell_type": "code",
     "collapsed": false,
     "input": [
      "bml_ord['llik']"
     ],
     "language": "python",
     "metadata": {},
     "outputs": [
      {
       "output_type": "pyout",
       "prompt_number": 4,
       "text": [
        "-181.60470935792705"
       ]
      }
     ],
     "prompt_number": 4
    },
    {
     "cell_type": "code",
     "collapsed": false,
     "input": [
      "bml['llik']"
     ],
     "language": "python",
     "metadata": {},
     "outputs": [
      {
       "output_type": "pyout",
       "prompt_number": 5,
       "text": [
        "-182.51761573191709"
       ]
      }
     ],
     "prompt_number": 5
    },
    {
     "cell_type": "markdown",
     "metadata": {},
     "source": [
      "Note that using the full evaluation of the Jacobian results in the value for the log likelihood matching that in OpenGeoDa. However, when the Ord approach is used, the value of the log likelihood is slightly lower (in absolute value)."
     ]
    },
    {
     "cell_type": "markdown",
     "metadata": {},
     "source": [
      "## Asymptotic Standard Errors##"
     ]
    },
    {
     "cell_type": "code",
     "collapsed": false,
     "input": [
      "bml['betas']"
     ],
     "language": "python",
     "metadata": {},
     "outputs": [
      {
       "output_type": "pyout",
       "prompt_number": 6,
       "text": [
        "array([[ 45.26497515],\n",
        "       [ -1.03634619],\n",
        "       [ -0.25941781]])"
       ]
      }
     ],
     "prompt_number": 6
    },
    {
     "cell_type": "code",
     "collapsed": false,
     "input": [
      "bml['se_b']"
     ],
     "language": "python",
     "metadata": {},
     "outputs": [
      {
       "output_type": "pyout",
       "prompt_number": 7,
       "text": [
        "array([[ 4.05171432],\n",
        "       [ 0.28588456],\n",
        "       [ 0.0882975 ]])"
       ]
      }
     ],
     "prompt_number": 7
    },
    {
     "cell_type": "code",
     "collapsed": false,
     "input": [
      "bml['t_b']"
     ],
     "language": "python",
     "metadata": {},
     "outputs": [
      {
       "output_type": "pyout",
       "prompt_number": 8,
       "text": [
        "array([[ 11.17180817],\n",
        "       [ -3.62505121],\n",
        "       [ -2.93799719]])"
       ]
      }
     ],
     "prompt_number": 8
    },
    {
     "cell_type": "code",
     "collapsed": false,
     "input": [
      "bml['rho']"
     ],
     "language": "python",
     "metadata": {},
     "outputs": [
      {
       "output_type": "pyout",
       "prompt_number": 9,
       "text": [
        "0.42280791180979316"
       ]
      }
     ],
     "prompt_number": 9
    },
    {
     "cell_type": "code",
     "collapsed": false,
     "input": [
      "bml['se_rho']"
     ],
     "language": "python",
     "metadata": {},
     "outputs": [
      {
       "output_type": "pyout",
       "prompt_number": 10,
       "text": [
        "8.874879060370999e-09"
       ]
      }
     ],
     "prompt_number": 10
    },
    {
     "cell_type": "code",
     "collapsed": false,
     "input": [
      "bml['t_rho']"
     ],
     "language": "python",
     "metadata": {},
     "outputs": [
      {
       "output_type": "pyout",
       "prompt_number": 11,
       "text": [
        "47640977.294863373"
       ]
      }
     ],
     "prompt_number": 11
    },
    {
     "cell_type": "code",
     "collapsed": false,
     "input": [],
     "language": "python",
     "metadata": {},
     "outputs": [],
     "prompt_number": 11
    }
   ],
   "metadata": {}
  }
 ]
}