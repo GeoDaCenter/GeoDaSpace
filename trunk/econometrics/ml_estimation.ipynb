{
 "metadata": {
  "name": "ml_estimation"
 },
 "nbformat": 3,
 "nbformat_minor": 0,
 "worksheets": [
  {
   "cells": [
    {
     "cell_type": "markdown",
     "metadata": {},
     "source": [
      "## Open GeoDa ##"
     ]
    },
    {
     "cell_type": "raw",
     "metadata": {},
     "source": [
      "SUMMARY OF OUTPUT: SPATIAL LAG MODEL - MAXIMUM LIKELIHOOD ESTIMATION\n",
      "Data set            : columbus\n",
      "Spatial Weight      : columbus.gal\n",
      "Dependent Variable  :       CRIME  Number of Observations:   49\n",
      "Mean dependent var  :     35.1288  Number of Variables   :    4\n",
      "S.D. dependent var  :     16.5605  Degrees of Freedom    :   45\n",
      "Lag coeff.   (Rho)  :    0.423325\n",
      "\n",
      "R-squared           :    0.646828  Log likelihood        :    -182.674\n",
      "Sq. Correlation     : -            Akaike info criterion :     373.348\n",
      "Sigma-square        :     96.8572  Schwarz criterion     :     380.915\n",
      "S.E of regression   :      9.8416\n",
      "\n",
      "-----------------------------------------------------------------------\n",
      "    Variable    Coefficient     Std.Error       z-value   Probability \n",
      "-----------------------------------------------------------------------\n",
      "     W_CRIME     0.4233254      0.1195104       3.542162    0.0003969\n",
      "    CONSTANT      45.60325       7.257404       6.283686    0.0000000\n",
      "       HOVAL    -0.2663348     0.08909629      -2.989292    0.0027964\n",
      "         INC     -1.048728      0.3074059      -3.411542    0.0006461\n",
      "-----------------------------------------------------------------------\n",
      "\n",
      "REGRESSION DIAGNOSTICS\n",
      "DIAGNOSTICS FOR HETEROSKEDASTICITY \n",
      "RANDOM COEFFICIENTS\n",
      "TEST                                     DF     VALUE         PROB\n",
      "Breusch-Pagan test                       2       24.50899     0.0000048\n",
      "\n",
      "DIAGNOSTICS FOR SPATIAL DEPENDENCE\n",
      "SPATIAL LAG DEPENDENCE FOR WEIGHT MATRIX : columbus.gal\n",
      "TEST                                     DF      VALUE        PROB\n",
      "Likelihood Ratio Test                    1       9.406534     0.0021621\n",
      "========================= END OF REPORT==============================\n"
     ]
    },
    {
     "cell_type": "code",
     "collapsed": false,
     "input": [
      "import pysal as ps\n",
      "from ml import ml_lag, ml_error"
     ],
     "language": "python",
     "metadata": {},
     "outputs": [],
     "prompt_number": 1
    },
    {
     "cell_type": "code",
     "collapsed": false,
     "input": [
      "db =  ps.open('examples/columbus.dbf','r')\n",
      "y = np.array(db.by_col(\"CRIME\"))\n",
      "y.shape = (len(y),1)\n",
      "X = []\n",
      "X.append(db.by_col(\"INC\"))\n",
      "X.append(db.by_col(\"HOVAL\"))\n",
      "X = np.array(X).T\n",
      "w = ps.open(\"examples/columbus.gal\").read()\n",
      "w.transform = 'r'\n",
      "X = np.hstack((np.ones((w.n,1)),X))\n",
      "lag = ml_lag(y, X, w, verbose=True, like='FULL')\n"
     ],
     "language": "python",
     "metadata": {},
     "outputs": [
      {
       "output_type": "stream",
       "stream": "stdout",
       "text": [
        "\n",
        "Maximum Likelihood Estimation of Spatial lag Model\n",
        "Iter.\t          LL\t         RHO\t          UL\t         DFR\n",
        "0\t  0.10975264\t  0.32925793\t  0.54876322\t -8.53189048\n",
        "1\t  0.32925793\t  0.43901058\t  0.54876322\t -8.53189048\n",
        "2\t  0.32925793\t  0.38413426\t  0.43901058\t -1.00354593\n",
        "3\t  0.38413426\t  0.41157242\t  0.43901058\t -1.00354593\n",
        "4\t  0.41157242\t  0.42529150\t  0.43901058\t -1.00354593\n",
        "5\t  0.41157242\t  0.41843196\t  0.42529150\t -0.12480079\n",
        "6\t  0.41843196\t  0.42186173\t  0.42529150\t -0.12480079\n",
        "7\t  0.42186173\t  0.42357661\t  0.42529150\t -0.12480079\n",
        "8\t  0.42186173\t  0.42271917\t  0.42357661\t -0.01592923\n",
        "9\t  0.42271917\t  0.42314789\t  0.42357661\t -0.01592923\n",
        "10\t  0.42314789\t  0.42336225\t  0.42357661\t -0.01592923\n",
        "11\t  0.42314789\t  0.42325507\t  0.42336225\t -0.00233550\n",
        "12\t  0.42325507\t  0.42330866\t  0.42336225\t -0.00233550\n",
        "13\t  0.42330866\t  0.42333546\t  0.42336225\t -0.00233550\n",
        "14\t  0.42330866\t  0.42332206\t  0.42333546\t -0.00063652\n",
        "15\t  0.42332206\t  0.42332876\t  0.42333546\t -0.00063652\n",
        "16\t  0.42332206\t  0.42332541\t  0.42332876\t -0.00021178\n",
        "17\t  0.42332541\t  0.42332708\t  0.42332876\t -0.00021178\n",
        "18\t  0.42332541\t  0.42332625\t  0.42332708\t -0.00010560\n",
        "19\t  0.42332541\t  0.42332583\t  0.42332625\t -0.00005251\n",
        "20\t  0.42332541\t  0.42332562\t  0.42332583\t -0.00002596\n",
        "21\t  0.42332541\t  0.42332551\t  0.42332562\t -0.00001269\n",
        "22\t  0.42332541\t  0.42332546\t  0.42332551\t -0.00000605\n"
       ]
      }
     ],
     "prompt_number": 2
    },
    {
     "cell_type": "code",
     "collapsed": false,
     "input": [
      "lag"
     ],
     "language": "python",
     "metadata": {},
     "outputs": [
      {
       "output_type": "pyout",
       "prompt_number": 3,
       "text": [
        "{'VCV': array([[  1.18608779e-02,  -5.95961767e-01,   1.07810336e-02,\n",
        "          6.97298874e-04,  -2.69985079e-01],\n",
        "       [ -5.95961767e-01,   4.65555134e+01,  -1.23973476e+00,\n",
        "         -1.54714880e-01,   1.35656725e+01],\n",
        "       [  1.07810336e-02,  -1.23973476e+00,   9.24974405e-02,\n",
        "         -1.21340092e-02,  -2.45404954e-01],\n",
        "       [  6.97298874e-04,  -1.54714880e-01,  -1.21340092e-02,\n",
        "          7.92977841e-03,  -1.58723741e-02],\n",
        "       [ -2.69985079e-01,   1.35656725e+01,  -2.45404954e-01,\n",
        "         -1.58723741e-02,   3.89056328e+02]]),\n",
        " 'betas': array([[ 45.60324665],\n",
        "       [ -1.04872811],\n",
        "       [ -0.26633481]]),\n",
        " 'llik': -182.67397201013398,\n",
        " 'rho': 0.42332546064791932,\n",
        " 'se_b': array([[ 6.82316007],\n",
        "       [ 0.30413392],\n",
        "       [ 0.0890493 ]]),\n",
        " 'se_rho': 0.10890765770345176,\n",
        " 'se_sig2': 19.72451084771555,\n",
        " 'sig2': 96.857180399693647,\n",
        " 'z_b': array([[ 6.68359619],\n",
        "       [-3.44824449],\n",
        "       [-2.99086908]]),\n",
        " 'z_rho': 3.8870128104362149}"
       ]
      }
     ],
     "prompt_number": 3
    },
    {
     "cell_type": "raw",
     "metadata": {},
     "source": [
      "SUMMARY OF OUTPUT: SPATIAL ERROR MODEL - MAXIMUM LIKELIHOOD ESTIMATION \n",
      "Data set            : columbus\n",
      "Spatial Weight      : columbus.gal\n",
      "Dependent Variable  :       CRIME  Number of Observations:   49\n",
      "Mean dependent var  :   35.128824  Number of Variables   :    3\n",
      "S.D. dependent var  :   16.560476  Degrees of Freedom    :   46\n",
      "Lag coeff. (Lambda) :    0.546753\n",
      "\n",
      "R-squared           :    0.643849  R-squared (BUSE)      : - \n",
      "Sq. Correlation     : -            Log likelihood        : -183.749428\n",
      "Sigma-square        :     97.6742  Akaike info criterion :     373.499\n",
      "S.E of regression   :     9.88303  Schwarz criterion     :     379.174\n",
      "\n",
      "-----------------------------------------------------------------------\n",
      "    Variable    Coefficient     Std.Error       z-value   Probability \n",
      "-----------------------------------------------------------------------\n",
      "    CONSTANT      60.27947       5.365594       11.23445    0.0000000\n",
      "       HOVAL    -0.3045593     0.09204732      -3.308725    0.0009373\n",
      "         INC    -0.9573053      0.3342308      -2.864205    0.0041807\n",
      "      LAMBDA      0.546753      0.1380508       3.960521    0.0000748\n",
      "-----------------------------------------------------------------------\n",
      "\n",
      "REGRESSION DIAGNOSTICS\n",
      "DIAGNOSTICS FOR HETEROSKEDASTICITY \n",
      "RANDOM COEFFICIENTS\n",
      "TEST                                     DF     VALUE         PROB\n",
      "Breusch-Pagan test                       2       18.86328     0.0000801\n",
      "\n",
      "DIAGNOSTICS FOR SPATIAL DEPENDENCE \n",
      "SPATIAL ERROR DEPENDENCE FOR WEIGHT MATRIX : columbus.gal\n",
      "TEST                                     DF      VALUE        PROB \n",
      "Likelihood Ratio Test                    1       7.255622     0.0070679\n",
      "========================= END OF REPORT==============================\n"
     ]
    },
    {
     "cell_type": "code",
     "collapsed": false,
     "input": [
      "error = ml_error(y, X, w, verbose=True, like='FULL')"
     ],
     "language": "python",
     "metadata": {},
     "outputs": [
      {
       "output_type": "stream",
       "stream": "stdout",
       "text": [
        "\n",
        "Maximum Likelihood Estimation of Spatial error Model\n",
        "Iter.\t          LL\t      LAMBDA\t          UL\t        dlik\n",
        "0\t  0.00000000\t  0.49995000\t  0.99990000\t 10.88336092\n",
        "1\t  0.49995000\t  0.74992500\t  0.99990000\t  1.73709934\n",
        "2\t  0.49995000\t  0.62493750\t  0.74992500\t-12.33283389\n",
        "3\t  0.49995000\t  0.56244375\t  0.62493750\t -3.64408602\n",
        "4\t  0.49995000\t  0.53119687\t  0.56244375\t -0.65042566\n",
        "5\t  0.53119687\t  0.54682031\t  0.56244375\t  0.60969247\n",
        "6\t  0.53119687\t  0.53900859\t  0.54682031\t -0.00271014\n",
        "7\t  0.53900859\t  0.54291445\t  0.54682031\t  0.30776622\n",
        "8\t  0.54291445\t  0.54486738\t  0.54682031\t  0.15361381\n",
        "9\t  0.54486738\t  0.54584385\t  0.54682031\t  0.07572543\n",
        "10\t  0.54584385\t  0.54633208\t  0.54682031\t  0.03657631\n",
        "11\t  0.54633208\t  0.54657620\t  0.54682031\t  0.01695029\n",
        "12\t  0.54657620\t  0.54669825\t  0.54682031\t  0.00712438\n",
        "13\t  0.54669825\t  0.54675928\t  0.54682031\t  0.00220819\n",
        "14\t  0.54669825\t  0.54672877\t  0.54675928\t -0.00025071\n",
        "15\t  0.54672877\t  0.54674403\t  0.54675928\t  0.00097881\n",
        "16\t  0.54674403\t  0.54675165\t  0.54675928\t  0.00036407\n",
        "17\t  0.54675165\t  0.54675547\t  0.54675928\t  0.00005669\n",
        "18\t  0.54675165\t  0.54675356\t  0.54675547\t -0.00009701\n",
        "19\t  0.54675165\t  0.54675261\t  0.54675356\t -0.00002016\n",
        "20\t  0.54675261\t  0.54675309\t  0.54675356\t  0.00001826\n",
        "21\t  0.54675261\t  0.54675285\t  0.54675309\t -0.00000095\n",
        "22\t  0.54675285\t  0.54675297\t  0.54675309\t  0.00000866\n"
       ]
      }
     ],
     "prompt_number": 4
    },
    {
     "cell_type": "code",
     "collapsed": false,
     "input": [
      "error"
     ],
     "language": "python",
     "metadata": {},
     "outputs": [
      {
       "output_type": "pyout",
       "prompt_number": 5,
       "text": [
        "{'Cls': array([[ 0.08681378]]),\n",
        " 'VB': array([[  2.87895975e+01,  -1.01528121e+00,  -1.28085210e-01],\n",
        "       [ -1.01528121e+00,   1.11710200e-01,  -1.41462506e-02],\n",
        "       [ -1.28085210e-01,  -1.41462506e-02,   8.47270854e-03]]),\n",
        " 'Vl': 101.30980732989622,\n",
        " 'Vs': array([[ 0.00256807]]),\n",
        " 'betas': array([[ 60.27947066],\n",
        "       [ -0.95730541],\n",
        "       [ -0.30455926]]),\n",
        " 'lambda': 0.54675302558541283,\n",
        " 'llik': -142.36698606442786,\n",
        " 'sig2': array([[ 97.6742346]]),\n",
        " 'std.error_B': array([ 5.36559386,  0.33423076,  0.09204732]),\n",
        " 'std.error_l': 10.065277310133895}"
       ]
      }
     ],
     "prompt_number": 5
    }
   ],
   "metadata": {}
  }
 ]
}