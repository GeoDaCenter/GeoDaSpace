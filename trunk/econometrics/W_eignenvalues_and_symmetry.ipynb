{
 "metadata": {
  "name": "W_eignenvalues_and_symmetry"
 },
 "nbformat": 3,
 "nbformat_minor": 0,
 "worksheets": [
  {
   "cells": [
    {
     "cell_type": "code",
     "collapsed": false,
     "input": [
      "import pysal as ps\n",
      "import numpy as np"
     ],
     "language": "python",
     "metadata": {},
     "outputs": [],
     "prompt_number": 1
    },
    {
     "cell_type": "code",
     "collapsed": false,
     "input": [
      "w = ps.lat2W(3,3)"
     ],
     "language": "python",
     "metadata": {},
     "outputs": [],
     "prompt_number": 2
    },
    {
     "cell_type": "code",
     "collapsed": false,
     "input": [
      "W = w.full()[0] # note w.full() returns a tuple, first element is full W, second is the ids for the rows"
     ],
     "language": "python",
     "metadata": {},
     "outputs": [],
     "prompt_number": 3
    },
    {
     "cell_type": "code",
     "collapsed": false,
     "input": [
      "W"
     ],
     "language": "python",
     "metadata": {},
     "outputs": [
      {
       "output_type": "pyout",
       "prompt_number": 4,
       "text": [
        "array([[ 0.,  1.,  0.,  1.,  0.,  0.,  0.,  0.,  0.],\n",
        "       [ 1.,  0.,  1.,  0.,  1.,  0.,  0.,  0.,  0.],\n",
        "       [ 0.,  1.,  0.,  0.,  0.,  1.,  0.,  0.,  0.],\n",
        "       [ 1.,  0.,  0.,  0.,  1.,  0.,  1.,  0.,  0.],\n",
        "       [ 0.,  1.,  0.,  1.,  0.,  1.,  0.,  1.,  0.],\n",
        "       [ 0.,  0.,  1.,  0.,  1.,  0.,  0.,  0.,  1.],\n",
        "       [ 0.,  0.,  0.,  1.,  0.,  0.,  0.,  1.,  0.],\n",
        "       [ 0.,  0.,  0.,  0.,  1.,  0.,  1.,  0.,  1.],\n",
        "       [ 0.,  0.,  0.,  0.,  0.,  1.,  0.,  1.,  0.]])"
       ]
      }
     ],
     "prompt_number": 4
    },
    {
     "cell_type": "code",
     "collapsed": false,
     "input": [
      "w.transform = 'r'\n",
      "W = w.full()[0]\n",
      "W"
     ],
     "language": "python",
     "metadata": {},
     "outputs": [
      {
       "output_type": "pyout",
       "prompt_number": 5,
       "text": [
        "array([[ 0.        ,  0.5       ,  0.        ,  0.5       ,  0.        ,\n",
        "         0.        ,  0.        ,  0.        ,  0.        ],\n",
        "       [ 0.33333333,  0.        ,  0.33333333,  0.        ,  0.33333333,\n",
        "         0.        ,  0.        ,  0.        ,  0.        ],\n",
        "       [ 0.        ,  0.5       ,  0.        ,  0.        ,  0.        ,\n",
        "         0.5       ,  0.        ,  0.        ,  0.        ],\n",
        "       [ 0.33333333,  0.        ,  0.        ,  0.        ,  0.33333333,\n",
        "         0.        ,  0.33333333,  0.        ,  0.        ],\n",
        "       [ 0.        ,  0.25      ,  0.        ,  0.25      ,  0.        ,\n",
        "         0.25      ,  0.        ,  0.25      ,  0.        ],\n",
        "       [ 0.        ,  0.        ,  0.33333333,  0.        ,  0.33333333,\n",
        "         0.        ,  0.        ,  0.        ,  0.33333333],\n",
        "       [ 0.        ,  0.        ,  0.        ,  0.5       ,  0.        ,\n",
        "         0.        ,  0.        ,  0.5       ,  0.        ],\n",
        "       [ 0.        ,  0.        ,  0.        ,  0.        ,  0.33333333,\n",
        "         0.        ,  0.33333333,  0.        ,  0.33333333],\n",
        "       [ 0.        ,  0.        ,  0.        ,  0.        ,  0.        ,\n",
        "         0.5       ,  0.        ,  0.5       ,  0.        ]])"
       ]
      }
     ],
     "prompt_number": 5
    },
    {
     "cell_type": "code",
     "collapsed": false,
     "input": [
      "WpW = W.T + W"
     ],
     "language": "python",
     "metadata": {},
     "outputs": [],
     "prompt_number": 6
    },
    {
     "cell_type": "code",
     "collapsed": false,
     "input": [
      "WpW[0,1]"
     ],
     "language": "python",
     "metadata": {},
     "outputs": [
      {
       "output_type": "pyout",
       "prompt_number": 7,
       "text": [
        "0.83333333333333326"
       ]
      }
     ],
     "prompt_number": 7
    },
    {
     "cell_type": "code",
     "collapsed": false,
     "input": [
      "WpW[1,0]"
     ],
     "language": "python",
     "metadata": {},
     "outputs": [
      {
       "output_type": "pyout",
       "prompt_number": 8,
       "text": [
        "0.83333333333333326"
       ]
      }
     ],
     "prompt_number": 8
    },
    {
     "cell_type": "heading",
     "level": 2,
     "metadata": {},
     "source": [
      "Eigenvalues of row standardized W"
     ]
    },
    {
     "cell_type": "code",
     "collapsed": false,
     "input": [
      "evW = np.linalg.eigvals(W)"
     ],
     "language": "python",
     "metadata": {},
     "outputs": [],
     "prompt_number": 9
    },
    {
     "cell_type": "code",
     "collapsed": false,
     "input": [
      "evW"
     ],
     "language": "python",
     "metadata": {},
     "outputs": [
      {
       "output_type": "pyout",
       "prompt_number": 10,
       "text": [
        "array([  1.00000000e+00,  -1.00000000e+00,  -5.77350269e-01,\n",
        "         5.77350269e-01,  -5.77350269e-01,   5.77350269e-01,\n",
        "        -1.64576479e-17,   1.64576479e-17,  -1.32079628e-34])"
       ]
      }
     ],
     "prompt_number": 10
    },
    {
     "cell_type": "heading",
     "level": 2,
     "metadata": {},
     "source": [
      "Construction of K and cousins"
     ]
    },
    {
     "cell_type": "code",
     "collapsed": false,
     "input": [
      "w.transform = 'b'\n",
      "W = w.full()[0] # back to intrinsically symmetric W"
     ],
     "language": "python",
     "metadata": {},
     "outputs": [],
     "prompt_number": 11
    },
    {
     "cell_type": "code",
     "collapsed": false,
     "input": [
      "k = w.cardinalities.values()"
     ],
     "language": "python",
     "metadata": {},
     "outputs": [],
     "prompt_number": 12
    },
    {
     "cell_type": "code",
     "collapsed": false,
     "input": [
      "k"
     ],
     "language": "python",
     "metadata": {},
     "outputs": [
      {
       "output_type": "pyout",
       "prompt_number": 13,
       "text": [
        "[2, 3, 2, 3, 4, 3, 2, 3, 2]"
       ]
      }
     ],
     "prompt_number": 13
    },
    {
     "cell_type": "code",
     "collapsed": false,
     "input": [
      "K = np.diag(k)"
     ],
     "language": "python",
     "metadata": {},
     "outputs": [],
     "prompt_number": 14
    },
    {
     "cell_type": "code",
     "collapsed": false,
     "input": [
      "K"
     ],
     "language": "python",
     "metadata": {},
     "outputs": [
      {
       "output_type": "pyout",
       "prompt_number": 15,
       "text": [
        "array([[2, 0, 0, 0, 0, 0, 0, 0, 0],\n",
        "       [0, 3, 0, 0, 0, 0, 0, 0, 0],\n",
        "       [0, 0, 2, 0, 0, 0, 0, 0, 0],\n",
        "       [0, 0, 0, 3, 0, 0, 0, 0, 0],\n",
        "       [0, 0, 0, 0, 4, 0, 0, 0, 0],\n",
        "       [0, 0, 0, 0, 0, 3, 0, 0, 0],\n",
        "       [0, 0, 0, 0, 0, 0, 2, 0, 0],\n",
        "       [0, 0, 0, 0, 0, 0, 0, 3, 0],\n",
        "       [0, 0, 0, 0, 0, 0, 0, 0, 2]])"
       ]
      }
     ],
     "prompt_number": 15
    },
    {
     "cell_type": "markdown",
     "metadata": {},
     "source": [
      "$K^{1/2}$"
     ]
    },
    {
     "cell_type": "code",
     "collapsed": false,
     "input": [
      "K12 = np.diag([ ki**(1/2.) for ki in k ])"
     ],
     "language": "python",
     "metadata": {},
     "outputs": [],
     "prompt_number": 16
    },
    {
     "cell_type": "code",
     "collapsed": false,
     "input": [
      "K12"
     ],
     "language": "python",
     "metadata": {},
     "outputs": [
      {
       "output_type": "pyout",
       "prompt_number": 17,
       "text": [
        "array([[ 1.41421356,  0.        ,  0.        ,  0.        ,  0.        ,\n",
        "         0.        ,  0.        ,  0.        ,  0.        ],\n",
        "       [ 0.        ,  1.73205081,  0.        ,  0.        ,  0.        ,\n",
        "         0.        ,  0.        ,  0.        ,  0.        ],\n",
        "       [ 0.        ,  0.        ,  1.41421356,  0.        ,  0.        ,\n",
        "         0.        ,  0.        ,  0.        ,  0.        ],\n",
        "       [ 0.        ,  0.        ,  0.        ,  1.73205081,  0.        ,\n",
        "         0.        ,  0.        ,  0.        ,  0.        ],\n",
        "       [ 0.        ,  0.        ,  0.        ,  0.        ,  2.        ,\n",
        "         0.        ,  0.        ,  0.        ,  0.        ],\n",
        "       [ 0.        ,  0.        ,  0.        ,  0.        ,  0.        ,\n",
        "         1.73205081,  0.        ,  0.        ,  0.        ],\n",
        "       [ 0.        ,  0.        ,  0.        ,  0.        ,  0.        ,\n",
        "         0.        ,  1.41421356,  0.        ,  0.        ],\n",
        "       [ 0.        ,  0.        ,  0.        ,  0.        ,  0.        ,\n",
        "         0.        ,  0.        ,  1.73205081,  0.        ],\n",
        "       [ 0.        ,  0.        ,  0.        ,  0.        ,  0.        ,\n",
        "         0.        ,  0.        ,  0.        ,  1.41421356]])"
       ]
      }
     ],
     "prompt_number": 17
    },
    {
     "cell_type": "markdown",
     "metadata": {},
     "source": [
      "$K^{-1}$"
     ]
    },
    {
     "cell_type": "code",
     "collapsed": false,
     "input": [
      "KI = np.diag( [ 1./ki for ki in k] )"
     ],
     "language": "python",
     "metadata": {},
     "outputs": [],
     "prompt_number": 18
    },
    {
     "cell_type": "code",
     "collapsed": false,
     "input": [
      "KI"
     ],
     "language": "python",
     "metadata": {},
     "outputs": [
      {
       "output_type": "pyout",
       "prompt_number": 19,
       "text": [
        "array([[ 0.5       ,  0.        ,  0.        ,  0.        ,  0.        ,\n",
        "         0.        ,  0.        ,  0.        ,  0.        ],\n",
        "       [ 0.        ,  0.33333333,  0.        ,  0.        ,  0.        ,\n",
        "         0.        ,  0.        ,  0.        ,  0.        ],\n",
        "       [ 0.        ,  0.        ,  0.5       ,  0.        ,  0.        ,\n",
        "         0.        ,  0.        ,  0.        ,  0.        ],\n",
        "       [ 0.        ,  0.        ,  0.        ,  0.33333333,  0.        ,\n",
        "         0.        ,  0.        ,  0.        ,  0.        ],\n",
        "       [ 0.        ,  0.        ,  0.        ,  0.        ,  0.25      ,\n",
        "         0.        ,  0.        ,  0.        ,  0.        ],\n",
        "       [ 0.        ,  0.        ,  0.        ,  0.        ,  0.        ,\n",
        "         0.33333333,  0.        ,  0.        ,  0.        ],\n",
        "       [ 0.        ,  0.        ,  0.        ,  0.        ,  0.        ,\n",
        "         0.        ,  0.5       ,  0.        ,  0.        ],\n",
        "       [ 0.        ,  0.        ,  0.        ,  0.        ,  0.        ,\n",
        "         0.        ,  0.        ,  0.33333333,  0.        ],\n",
        "       [ 0.        ,  0.        ,  0.        ,  0.        ,  0.        ,\n",
        "         0.        ,  0.        ,  0.        ,  0.5       ]])"
       ]
      }
     ],
     "prompt_number": 19
    },
    {
     "cell_type": "markdown",
     "metadata": {},
     "source": [
      "$K^{-1/2}$"
     ]
    },
    {
     "cell_type": "code",
     "collapsed": false,
     "input": [
      "KI12 = np.diag( [ ki**(-1/2.) for ki in k ] )"
     ],
     "language": "python",
     "metadata": {},
     "outputs": [],
     "prompt_number": 20
    },
    {
     "cell_type": "code",
     "collapsed": false,
     "input": [
      "KI12"
     ],
     "language": "python",
     "metadata": {},
     "outputs": [
      {
       "output_type": "pyout",
       "prompt_number": 21,
       "text": [
        "array([[ 0.70710678,  0.        ,  0.        ,  0.        ,  0.        ,\n",
        "         0.        ,  0.        ,  0.        ,  0.        ],\n",
        "       [ 0.        ,  0.57735027,  0.        ,  0.        ,  0.        ,\n",
        "         0.        ,  0.        ,  0.        ,  0.        ],\n",
        "       [ 0.        ,  0.        ,  0.70710678,  0.        ,  0.        ,\n",
        "         0.        ,  0.        ,  0.        ,  0.        ],\n",
        "       [ 0.        ,  0.        ,  0.        ,  0.57735027,  0.        ,\n",
        "         0.        ,  0.        ,  0.        ,  0.        ],\n",
        "       [ 0.        ,  0.        ,  0.        ,  0.        ,  0.5       ,\n",
        "         0.        ,  0.        ,  0.        ,  0.        ],\n",
        "       [ 0.        ,  0.        ,  0.        ,  0.        ,  0.        ,\n",
        "         0.57735027,  0.        ,  0.        ,  0.        ],\n",
        "       [ 0.        ,  0.        ,  0.        ,  0.        ,  0.        ,\n",
        "         0.        ,  0.70710678,  0.        ,  0.        ],\n",
        "       [ 0.        ,  0.        ,  0.        ,  0.        ,  0.        ,\n",
        "         0.        ,  0.        ,  0.57735027,  0.        ],\n",
        "       [ 0.        ,  0.        ,  0.        ,  0.        ,  0.        ,\n",
        "         0.        ,  0.        ,  0.        ,  0.70710678]])"
       ]
      }
     ],
     "prompt_number": 21
    },
    {
     "cell_type": "markdown",
     "metadata": {},
     "source": [
      "$S = K^{1/2} [ K^{-1} W ] K^{-1/2}$"
     ]
    },
    {
     "cell_type": "code",
     "collapsed": false,
     "input": [
      "K12KI = np.dot(K12,KI)"
     ],
     "language": "python",
     "metadata": {},
     "outputs": [],
     "prompt_number": 22
    },
    {
     "cell_type": "code",
     "collapsed": false,
     "input": [
      "K12KIW = np.dot(K12KI,W)"
     ],
     "language": "python",
     "metadata": {},
     "outputs": [],
     "prompt_number": 23
    },
    {
     "cell_type": "code",
     "collapsed": false,
     "input": [
      "S = np.dot(K12KIW, KI12)"
     ],
     "language": "python",
     "metadata": {},
     "outputs": [],
     "prompt_number": 24
    },
    {
     "cell_type": "markdown",
     "metadata": {},
     "source": [
      "Eigenvalues of $S$"
     ]
    },
    {
     "cell_type": "code",
     "collapsed": false,
     "input": [
      "evS = np.linalg.eigvals(S)"
     ],
     "language": "python",
     "metadata": {},
     "outputs": [],
     "prompt_number": 25
    },
    {
     "cell_type": "code",
     "collapsed": false,
     "input": [
      "evS"
     ],
     "language": "python",
     "metadata": {},
     "outputs": [
      {
       "output_type": "pyout",
       "prompt_number": 26,
       "text": [
        "array([ -1.00000000e+00,  -5.77350269e-01,   1.00000000e+00,\n",
        "        -5.77350269e-01,   5.77350269e-01,   5.77350269e-01,\n",
        "         9.42817123e-17,  -9.42817123e-17,   5.68491845e-34])"
       ]
      }
     ],
     "prompt_number": 26
    },
    {
     "cell_type": "code",
     "collapsed": false,
     "input": [
      "evW"
     ],
     "language": "python",
     "metadata": {},
     "outputs": [
      {
       "output_type": "pyout",
       "prompt_number": 27,
       "text": [
        "array([  1.00000000e+00,  -1.00000000e+00,  -5.77350269e-01,\n",
        "         5.77350269e-01,  -5.77350269e-01,   5.77350269e-01,\n",
        "        -1.64576479e-17,   1.64576479e-17,  -1.32079628e-34])"
       ]
      }
     ],
     "prompt_number": 27
    },
    {
     "cell_type": "code",
     "collapsed": false,
     "input": [
      "S"
     ],
     "language": "python",
     "metadata": {},
     "outputs": [
      {
       "output_type": "pyout",
       "prompt_number": 28,
       "text": [
        "array([[ 0.        ,  0.40824829,  0.        ,  0.40824829,  0.        ,\n",
        "         0.        ,  0.        ,  0.        ,  0.        ],\n",
        "       [ 0.40824829,  0.        ,  0.40824829,  0.        ,  0.28867513,\n",
        "         0.        ,  0.        ,  0.        ,  0.        ],\n",
        "       [ 0.        ,  0.40824829,  0.        ,  0.        ,  0.        ,\n",
        "         0.40824829,  0.        ,  0.        ,  0.        ],\n",
        "       [ 0.40824829,  0.        ,  0.        ,  0.        ,  0.28867513,\n",
        "         0.        ,  0.40824829,  0.        ,  0.        ],\n",
        "       [ 0.        ,  0.28867513,  0.        ,  0.28867513,  0.        ,\n",
        "         0.28867513,  0.        ,  0.28867513,  0.        ],\n",
        "       [ 0.        ,  0.        ,  0.40824829,  0.        ,  0.28867513,\n",
        "         0.        ,  0.        ,  0.        ,  0.40824829],\n",
        "       [ 0.        ,  0.        ,  0.        ,  0.40824829,  0.        ,\n",
        "         0.        ,  0.        ,  0.40824829,  0.        ],\n",
        "       [ 0.        ,  0.        ,  0.        ,  0.        ,  0.28867513,\n",
        "         0.        ,  0.40824829,  0.        ,  0.40824829],\n",
        "       [ 0.        ,  0.        ,  0.        ,  0.        ,  0.        ,\n",
        "         0.40824829,  0.        ,  0.40824829,  0.        ]])"
       ]
      }
     ],
     "prompt_number": 28
    },
    {
     "cell_type": "markdown",
     "metadata": {},
     "source": [
      "Is S symmetric? Looks like it:"
     ]
    },
    {
     "cell_type": "code",
     "collapsed": false,
     "input": [
      "S.T - S"
     ],
     "language": "python",
     "metadata": {},
     "outputs": [
      {
       "output_type": "pyout",
       "prompt_number": 29,
       "text": [
        "array([[  0.00000000e+00,  -1.11022302e-16,   0.00000000e+00,\n",
        "         -1.11022302e-16,   0.00000000e+00,   0.00000000e+00,\n",
        "          0.00000000e+00,   0.00000000e+00,   0.00000000e+00],\n",
        "       [  1.11022302e-16,   0.00000000e+00,   1.11022302e-16,\n",
        "          0.00000000e+00,   5.55111512e-17,   0.00000000e+00,\n",
        "          0.00000000e+00,   0.00000000e+00,   0.00000000e+00],\n",
        "       [  0.00000000e+00,  -1.11022302e-16,   0.00000000e+00,\n",
        "          0.00000000e+00,   0.00000000e+00,  -1.11022302e-16,\n",
        "          0.00000000e+00,   0.00000000e+00,   0.00000000e+00],\n",
        "       [  1.11022302e-16,   0.00000000e+00,   0.00000000e+00,\n",
        "          0.00000000e+00,   5.55111512e-17,   0.00000000e+00,\n",
        "          1.11022302e-16,   0.00000000e+00,   0.00000000e+00],\n",
        "       [  0.00000000e+00,  -5.55111512e-17,   0.00000000e+00,\n",
        "         -5.55111512e-17,   0.00000000e+00,  -5.55111512e-17,\n",
        "          0.00000000e+00,  -5.55111512e-17,   0.00000000e+00],\n",
        "       [  0.00000000e+00,   0.00000000e+00,   1.11022302e-16,\n",
        "          0.00000000e+00,   5.55111512e-17,   0.00000000e+00,\n",
        "          0.00000000e+00,   0.00000000e+00,   1.11022302e-16],\n",
        "       [  0.00000000e+00,   0.00000000e+00,   0.00000000e+00,\n",
        "         -1.11022302e-16,   0.00000000e+00,   0.00000000e+00,\n",
        "          0.00000000e+00,  -1.11022302e-16,   0.00000000e+00],\n",
        "       [  0.00000000e+00,   0.00000000e+00,   0.00000000e+00,\n",
        "          0.00000000e+00,   5.55111512e-17,   0.00000000e+00,\n",
        "          1.11022302e-16,   0.00000000e+00,   1.11022302e-16],\n",
        "       [  0.00000000e+00,   0.00000000e+00,   0.00000000e+00,\n",
        "          0.00000000e+00,   0.00000000e+00,  -1.11022302e-16,\n",
        "          0.00000000e+00,  -1.11022302e-16,   0.00000000e+00]])"
       ]
      }
     ],
     "prompt_number": 29
    }
   ],
   "metadata": {}
  }
 ]
}